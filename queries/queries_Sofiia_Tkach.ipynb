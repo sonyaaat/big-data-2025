{
 "nbformat": 4,
 "nbformat_minor": 0,
 "metadata": {
  "colab": {
   "provenance": []
  },
  "kernelspec": {
   "name": "python3",
   "display_name": "Python 3"
  },
  "language_info": {
   "name": "python"
  }
 },
 "cells": [
  {
   "cell_type": "markdown",
   "source": [
    "# Extract necessary DataFrames"
   ],
   "metadata": {
    "id": "oGkvmlOtizjz",
    "pycharm": {
     "name": "#%% md\n"
    }
   }
  },
  {
   "cell_type": "code",
   "source": [
    "from pyspark.sql import Window\n",
    "import pyspark.sql.functions as F\n",
    "from main import process_imdb_data\n",
    "from pyspark.sql import DataFrame\n",
    "from pyspark.sql.functions import desc"
   ],
   "metadata": {
    "id": "RAdwmFvior2y",
    "pycharm": {
     "name": "#%%\n"
    }
   },
   "execution_count": null,
   "outputs": []
  },
  {
   "cell_type": "code",
   "execution_count": null,
   "outputs": [],
   "source": [
    "dataframes = process_imdb_data()"
   ],
   "metadata": {
    "collapsed": false,
    "pycharm": {
     "name": "#%%\n"
    }
   }
  },
  {
   "cell_type": "code",
   "source": [
    "videogames = dataframes[\"basics\"].filter(F.col(\"titleType\") == \"videoGame\")\n",
    "tv_episodes = dataframes[\"basics\"].filter(F.col(\"titleType\") == \"tvEpisode\")\n",
    "ratings = dataframes[\"ratings\"]\n",
    "akas = dataframes[\"akas\"]\n",
    "principals = dataframes[\"principals\"]\n",
    "names = dataframes[\"name\"]"
   ],
   "metadata": {
    "id": "2bTtzzMiizSp",
    "pycharm": {
     "name": "#%%\n"
    }
   },
   "execution_count": 11,
   "outputs": []
  },
  {
   "cell_type": "markdown",
   "source": [
    "# Which videos or episodes have Ukrainian localization or mention 'Ukraine' in the title and have the highest rating (above 7,5)?\n",
    "\n",
    "## Які відео або епізоди мають українську локалізацію або згадку \"Ukraine\" в назві і мають найвищий рейтинг(білше 1,5)?\n",
    "\n"
   ],
   "metadata": {
    "id": "jCbL-sGziu9h",
    "pycharm": {
     "name": "#%% md\n"
    }
   }
  },
  {
   "cell_type": "code",
   "source": [
    "def highest_rated_ukraine_titles(videogames: DataFrame, tv_episodes: DataFrame) -> DataFrame:\n",
    "    ukraine_titles = videogames.filter(\n",
    "        F.col(\"primaryTitle\").contains(\"Ukraine\") | F.col(\"originalTitle\").contains(\"Ukraine\")\n",
    "    ).union(\n",
    "        tv_episodes.filter(\n",
    "            F.col(\"primaryTitle\").contains(\"Ukraine\") | F.col(\"originalTitle\").contains(\"Ukraine\")\n",
    "        )\n",
    "    )\n",
    "\n",
    "    highest_rated_ukraine = ukraine_titles.join(\n",
    "        ratings, ukraine_titles[\"tconst\"] == ratings[\"tconst\"]\n",
    "    ).filter(\n",
    "        (F.col(\"averageRating\") >= 7.5) & (F.col(\"numVotes\") >= 20)\n",
    "    ).select(\n",
    "        \"originalTitle\", \"averageRating\", \"numVotes\", \"startYear\"\n",
    "    ).orderBy(F.desc(\"averageRating\"))\n",
    "\n",
    "    return highest_rated_ukraine"
   ],
   "metadata": {
    "id": "cKEZ23VKixJI",
    "pycharm": {
     "name": "#%%\n"
    }
   },
   "execution_count": 16,
   "outputs": []
  },
  {
   "cell_type": "code",
   "source": [
    "print(\"Highest rated titles from Ukraine\")\n",
    "\n",
    "highest_rated_ukraine = highest_rated_ukraine_titles(videogames, tv_episodes)\n",
    "highest_rated_ukraine.show(truncate=False)\n",
    "\n",
    "total_records = highest_rated_ukraine.count()\n",
    "print(f\"Загальна кількість записів у відповіді: {total_records}\")"
   ],
   "metadata": {
    "colab": {
     "base_uri": "https://localhost:8080/"
    },
    "id": "_A0zvNZQjHgG",
    "outputId": "1f47603f-7ae4-4dff-e934-3367bf89c260",
    "pycharm": {
     "name": "#%%\n"
    }
   },
   "execution_count": 17,
   "outputs": [
    {
     "output_type": "stream",
     "name": "stdout",
     "text": [
      "Highest rated titles from Ukraine\n",
      "+------------------------------------------------------------------------+-------------+---------+\n",
      "|originalTitle                                                           |averageRating|startYear|\n",
      "+------------------------------------------------------------------------+-------------+---------+\n",
      "|Hero City Mariupol 10: Ukraine's Gloria Stefania of AzovStal            |9.7          |2022     |\n",
      "|Kadyrovtsy Last Trip to Ukraine                                         |9.7          |2022     |\n",
      "|Ukraine Victorious 27: Kharkiv Champion Iryna Dekha                     |9.7          |2023     |\n",
      "|Ukraine Victorious 24: Bakhmut Star Mariia Yefremova                    |9.7          |2023     |\n",
      "|Ukraine Victorious 20: Top of the World Wrestlers                       |9.7          |2022     |\n",
      "|Ukraine The Victorious 29: Football Ladies EURO Finalists               |9.7          |2023     |\n",
      "|Bombs as Russia's Killing Culture 2: Deep Wounds on Ukraine's Body      |9.6          |2022     |\n",
      "|Heroes of Ukraine: Vitalii Skakun                                       |9.6          |2022     |\n",
      "|Ukraine Victorious 25: Hurricane Dmytro Kotovskyi                       |9.6          |2023     |\n",
      "|Ukraine Victorious 11: Shakhtar's Faerie                                |9.6          |2022     |\n",
      "|Ukraine Victorious 19: Two Berinchyk Belts for Ukraine?                 |9.6          |2022     |\n",
      "|Ukraine Victorious 22: Fighter Champion Ivan Poremchuk                  |9.6          |2022     |\n",
      "|Ukraine Victorious 5: Terliuga Karate Winning Spirit                    |9.6          |2022     |\n",
      "|Heroes of Ukraine: Oleksandr Matsievskyi                                |9.6          |2023     |\n",
      "|Russian Army in Town 3: Ukraine's Best Community of Trostianets in Ruins|9.5          |2022     |\n",
      "|Ukraine the Victorious 33: Gymnastics Star Illia Kovtun                 |9.5          |2023     |\n",
      "|Ukraine the Victorious 6: Tears of Joy                                  |9.5          |2022     |\n",
      "|Heroes of Ukraine: Tetyana Markus                                       |9.5          |2023     |\n",
      "|Bombs as Russia's Killing Culture 10: 3 000 Missiles at Ukraine         |9.4          |2022     |\n",
      "|Heroes of Ukraine: Volodymyr \"Balu\" Baliuk                              |9.4          |2022     |\n",
      "+------------------------------------------------------------------------+-------------+---------+\n",
      "only showing top 20 rows\n",
      "\n",
      "Загальна кількість записів у відповіді: 169\n"
     ]
    }
   ]
  },
  {
   "cell_type": "markdown",
   "source": [
    "# Which video game genres are the most popular by the number of released games in the last 5 years, and what is the most representative title for each genre?\n",
    "\n",
    "## Які жанри відеоігор є найпопулярнішими за кількістю випущених ігор за останні 5 років, і яка назва є найбільш репрезентативною для кожного жанру?"
   ],
   "metadata": {
    "id": "1ATNJB-FjJdW",
    "pycharm": {
     "name": "#%% md\n"
    }
   }
  },
  {
   "cell_type": "code",
   "source": [
    "def most_popular_genres_by_count(videogames: DataFrame) -> DataFrame:\n",
    "    current_year = 2025\n",
    "    videogames_last_5_years = videogames.filter(\n",
    "        (F.col(\"startYear\") >= current_year - 5) & (F.col(\"startYear\").isNotNull())\n",
    "    )\n",
    "\n",
    "    videogames_last_5_years = videogames_last_5_years.withColumn(\n",
    "        \"genre\", F.explode(F.col(\"genres\"))\n",
    "    )\n",
    "\n",
    "    genre_counts = videogames_last_5_years.groupBy(\"genre\").count()\n",
    "\n",
    "    most_frequent_title_in_genre = videogames_last_5_years.groupBy(\"genre\").agg(\n",
    "        F.first(\"primaryTitle\").alias(\"mostFrequentTitle\"))\n",
    "\n",
    "    genre_summary = genre_counts.join(\n",
    "        most_frequent_title_in_genre, \"genre\", \"left\"\n",
    "    )\n",
    "\n",
    "    top_genres_by_count = genre_summary.orderBy(desc(\"count\")).limit(20)\n",
    "\n",
    "    return top_genres_by_count\n"
   ],
   "metadata": {
    "id": "u0g1EP8ijPyU",
    "pycharm": {
     "name": "#%%\n"
    }
   },
   "execution_count": 18,
   "outputs": []
  },
  {
   "cell_type": "code",
   "source": [
    "print(\"Most popular video games genres by count\")\n",
    "\n",
    "most_popular_video_games_genres = most_popular_genres_by_count(videogames)\n",
    "most_popular_video_games_genres.show(truncate=False)\n",
    "\n",
    "total_records = most_popular_video_games_genres.count()\n",
    "print(f\"Загальна кількість записів у відповіді: {total_records}\")"
   ],
   "metadata": {
    "colab": {
     "base_uri": "https://localhost:8080/"
    },
    "id": "Hf9c2_wxjm1E",
    "outputId": "e144a377-a905-4b28-f62c-3983018b0ddc",
    "pycharm": {
     "name": "#%%\n"
    }
   },
   "execution_count": 19,
   "outputs": [
    {
     "output_type": "stream",
     "name": "stdout",
     "text": [
      "Most popular video games genres by count\n",
      "+---------+-----+--------------------------------------+\n",
      "|genre    |count|mostFrequentTitle                     |\n",
      "+---------+-----+--------------------------------------+\n",
      "|Adventure|2651 |Croc: Legend of the Gobbos            |\n",
      "|Action   |2641 |Croc: Legend of the Gobbos            |\n",
      "|Fantasy  |1084 |Vampire: The Masquerade - Bloodlines 2|\n",
      "|Horror   |957  |Gamer Girl                            |\n",
      "|Sci-Fi   |555  |The Complex                           |\n",
      "|Comedy   |509  |Lego Star Wars: The Skywalker Saga    |\n",
      "|Mystery  |349  |Twin Mirror                           |\n",
      "|Animation|318  |Love, Money, Rock 'n' Roll.           |\n",
      "|Drama    |284  |Vampire: The Masquerade - Bloodlines 2|\n",
      "|Romance  |267  |Love, Money, Rock 'n' Roll.           |\n",
      "|Sport    |230  |MLB: The Show 20                      |\n",
      "|Family   |228  |Croc: Legend of the Gobbos            |\n",
      "|Adult    |192  |Dezyred - Double Trouble              |\n",
      "|Crime    |175  |The Legend of Blue Jacket & Red Coat  |\n",
      "|Thriller |125  |The Complex                           |\n",
      "|Music    |119  |Hatsune Miku Project Diva: Mega 39's  |\n",
      "|War      |98   |Medal of Honor: Above and Beyond      |\n",
      "|History  |98   |The Dark Pictures: Little Hope        |\n",
      "|Short    |53   |Beautiful Feet Cabin                  |\n",
      "|Game-Show|44   |Butter Royale                         |\n",
      "+---------+-----+--------------------------------------+\n",
      "\n",
      "Загальна кількість записів у відповіді: 20\n"
     ]
    }
   ]
  },
  {
   "cell_type": "markdown",
   "source": [
    "# Which video games with the highest ratings (above 7,5) were released after 2015 and have more than 10000 votes?\n",
    "\n",
    "## Які відеоігри з найвищим рейтингом (більше 7,5) вийшли після 2015 року та мають понад 10000 голосів?"
   ],
   "metadata": {
    "id": "C7d_4nPokuCX",
    "pycharm": {
     "name": "#%% md\n"
    }
   }
  },
  {
   "cell_type": "code",
   "source": [
    "def top_recent_videogames(videogames: DataFrame, ratings: DataFrame) -> DataFrame:\n",
    "    recent_videogames = videogames.join(ratings, \"tconst\") \\\n",
    "        .filter(\n",
    "            (videogames[\"startYear\"] >= 2015) &\n",
    "            (ratings[\"averageRating\"] >= 7.5) &\n",
    "            (ratings[\"numVotes\"] >= 10000)\n",
    "        ) \\\n",
    "        .select(\n",
    "            videogames[\"primaryTitle\"],\n",
    "            videogames[\"startYear\"],\n",
    "            ratings[\"averageRating\"],\n",
    "            ratings[\"numVotes\"]\n",
    "        )\n",
    "\n",
    "    top_recent = recent_videogames.orderBy(F.desc(\"averageRating\"), F.desc(\"numVotes\"))\n",
    "\n",
    "    return top_recent\n"
   ],
   "metadata": {
    "id": "YubGWrkvktk8",
    "pycharm": {
     "name": "#%%\n"
    }
   },
   "execution_count": 20,
   "outputs": []
  },
  {
   "cell_type": "code",
   "source": [
    "print(\"Top-rated video games released after 2015 with more than 10000 votes\")\n",
    "\n",
    "top_recent_games = top_recent_videogames(videogames, ratings)\n",
    "top_recent_games.show(truncate=False)\n",
    "\n",
    "total_recent = top_recent_games.count()\n",
    "print(f\"Загальна кількість записів у відповіді: {total_recent}\")\n"
   ],
   "metadata": {
    "colab": {
     "base_uri": "https://localhost:8080/"
    },
    "id": "1NEbiWJVk3LC",
    "outputId": "2a835591-aed4-4f2a-8a34-8588a5b8dbc5",
    "pycharm": {
     "name": "#%%\n"
    }
   },
   "execution_count": 21,
   "outputs": [
    {
     "output_type": "stream",
     "name": "stdout",
     "text": [
      "Top-rated video games released after 2015 with more than 5000 votes\n",
      "+---------------------------------------+---------+-------------+--------+\n",
      "|primaryTitle                           |startYear|averageRating|numVotes|\n",
      "+---------------------------------------+---------+-------------+--------+\n",
      "|Red Dead Redemption II                 |2018     |9.7          |65236   |\n",
      "|The Last of Us: Part I                 |2022     |9.7          |10384   |\n",
      "|The Witcher 3: Wild Hunt               |2015     |9.6          |36464   |\n",
      "|God of War: Ragnarök                   |2022     |9.6          |21222   |\n",
      "|Baldur's Gate III                      |2023     |9.6          |7413    |\n",
      "|God of War                             |2018     |9.5          |41364   |\n",
      "|Uncharted 4: A Thief's End             |2016     |9.4          |39295   |\n",
      "|Elden Ring                             |2022     |9.4          |12920   |\n",
      "|The Legend of Zelda: Breath of the Wild|2017     |9.4          |11295   |\n",
      "|Bloodborne                             |2015     |9.3          |8627    |\n",
      "|Resident Evil 4                        |2023     |9.3          |7508    |\n",
      "|Uncharted: The Nathan Drake Collection |2015     |9.3          |6792    |\n",
      "|Spider-Man                             |2018     |9.2          |32797   |\n",
      "|Ghost of Tsushima                      |2020     |9.2          |19341   |\n",
      "|Detroit: Become Human                  |2018     |9.1          |26750   |\n",
      "|Spider-Man 2                           |2023     |9.1          |9530    |\n",
      "|Dark Souls III                         |2016     |9.1          |6853    |\n",
      "|Batman: Arkham Knight                  |2015     |9.0          |26194   |\n",
      "|Resident Evil 2                        |2019     |9.0          |12415   |\n",
      "|Super Mario Odyssey                    |2017     |9.0          |6531    |\n",
      "+---------------------------------------+---------+-------------+--------+\n",
      "only showing top 20 rows\n",
      "\n",
      "Загальна кількість записів у відповіді: 79\n"
     ]
    }
   ]
  },
  {
   "cell_type": "markdown",
   "source": [
    "# Which video games have the most localizations (adaptations for different countries)?\n",
    "## Які відеоігри мають найбільшу кількість локалізацій (адаптацій для різних країн)?"
   ],
   "metadata": {
    "id": "HSK46mP_lxfk",
    "pycharm": {
     "name": "#%% md\n"
    }
   }
  },
  {
   "cell_type": "code",
   "source": [
    "def most_localized_videogames(videogames: DataFrame, akas: DataFrame) -> DataFrame:\n",
    "    localized_games = videogames.join(\n",
    "        akas, videogames[\"tconst\"] == akas[\"titleId\"], \"inner\"\n",
    "    )\n",
    "\n",
    "    localized_games = localized_games.filter(\n",
    "        (F.col(\"language\") != \"und\") &\n",
    "        (F.col(\"titleType\") == \"videoGame\")\n",
    "    )\n",
    "\n",
    "    localized_games_count = localized_games.groupBy(\"primaryTitle\").agg(\n",
    "        F.countDistinct(\"region\").alias(\"localization_count\")\n",
    "    )\n",
    "\n",
    "    result = localized_games_count.orderBy(desc(\"localization_count\"))\n",
    "\n",
    "    return result\n"
   ],
   "metadata": {
    "id": "NrpFd5orl2py",
    "pycharm": {
     "name": "#%%\n"
    }
   },
   "execution_count": 22,
   "outputs": []
  },
  {
   "cell_type": "code",
   "source": [
    "print(\"Most localized video games\")\n",
    "\n",
    "localized_games = most_localized_videogames(videogames, akas)\n",
    "localized_games.show(truncate=False)\n",
    "\n",
    "total_records = localized_games.count()\n",
    "print(f\"Total number of records in the result: {total_records}\")"
   ],
   "metadata": {
    "colab": {
     "base_uri": "https://localhost:8080/"
    },
    "id": "fUMtslVUl-YV",
    "outputId": "5f2034c6-3bef-4b45-f5b4-363529c8bb48",
    "pycharm": {
     "name": "#%%\n"
    }
   },
   "execution_count": 23,
   "outputs": [
    {
     "output_type": "stream",
     "name": "stdout",
     "text": [
      "Most localized video games\n",
      "+--------------------------------------------------------------+------------------+\n",
      "|primaryTitle                                                  |localization_count|\n",
      "+--------------------------------------------------------------+------------------+\n",
      "|Atelier Yumia: The Alchemist of Memories & the Envisioned Land|17                |\n",
      "|Monkey King: Hero Is Back                                     |16                |\n",
      "|SilverFin                                                     |11                |\n",
      "|Paradigm Paradox                                              |11                |\n",
      "|Pokémon Legends Z-A                                           |11                |\n",
      "|Max Payne                                                     |9                 |\n",
      "|James Bond 007: Goldfinger                                    |9                 |\n",
      "|James Bond 007: A View to a Kill                              |8                 |\n",
      "|Sword Art Online: Hollow Fragment                             |8                 |\n",
      "|Super Smash Bros. Ultimate                                    |8                 |\n",
      "|Antz Extreme Racing                                           |8                 |\n",
      "|God of War                                                    |8                 |\n",
      "|Super Mario RPG                                               |8                 |\n",
      "|A View to a Kill: The Computer Game                           |7                 |\n",
      "|SWORD ART ONLINE Fractured Daydream                           |7                 |\n",
      "|Pokémon Scarlet                                               |7                 |\n",
      "|Cars: The Video Game                                          |7                 |\n",
      "|The Legend of Zelda: Ocarina of Time 3D                       |7                 |\n",
      "|I.Q Intelligent Qube                                          |7                 |\n",
      "|Metroid Dread                                                 |7                 |\n",
      "+--------------------------------------------------------------+------------------+\n",
      "only showing top 20 rows\n",
      "\n",
      "Total number of records in the result: 6371\n"
     ]
    }
   ]
  },
  {
   "cell_type": "markdown",
   "source": [
    "# Which video games have the highest rating growth in the last year?\n",
    "## Які відеоігри з найбільшим приростом рейтингу в останньому році?"
   ],
   "metadata": {
    "id": "UOZNtuaFmXOF",
    "pycharm": {
     "name": "#%% md\n"
    }
   }
  },
  {
   "cell_type": "code",
   "source": [
    "def top_video_games_by_rating_growth(videogames: DataFrame, ratings: DataFrame) -> DataFrame:\n",
    "    joined_data = videogames.join(ratings, videogames[\"tconst\"] == ratings[\"tconst\"])\n",
    "\n",
    "    window_spec = Window.partitionBy(\"primaryTitle\").orderBy(\"startYear\")\n",
    "\n",
    "    joined_data = joined_data.withColumn(\n",
    "        \"previous_rating\",\n",
    "        F.lag(\"averageRating\").over(window_spec)\n",
    "    )\n",
    "\n",
    "    joined_data = joined_data.withColumn(\n",
    "        \"rating_growth\", F.round(F.col(\"averageRating\") - F.col(\"previous_rating\"), 2)\n",
    "    )\n",
    "\n",
    "    top_growth_games = joined_data.filter(\n",
    "        (F.col(\"rating_growth\") > 0) & (F.col(\"numVotes\") >= 500)\n",
    "    ).select(\n",
    "        \"primaryTitle\", \"startYear\", \"averageRating\", \"numVotes\", \"rating_growth\"\n",
    "    ).orderBy(\n",
    "        F.desc(\"rating_growth\")\n",
    "    )\n",
    "\n",
    "    return top_growth_games\n"
   ],
   "metadata": {
    "id": "E3DA3T0Emaj9",
    "pycharm": {
     "name": "#%%\n"
    }
   },
   "execution_count": 26,
   "outputs": []
  },
  {
   "cell_type": "code",
   "source": [
    "print(\"Top video games by rating growth\")\n",
    "\n",
    "top_rating_growth_games = top_video_games_by_rating_growth(videogames, ratings)\n",
    "top_rating_growth_games.show(truncate=False)\n",
    "\n",
    "total_records = top_rating_growth_games.count()\n",
    "print(f\"Total number of records in the result: {total_records}\")"
   ],
   "metadata": {
    "colab": {
     "base_uri": "https://localhost:8080/"
    },
    "id": "-R9RIbqqm_zG",
    "outputId": "81ebf07b-ad66-424c-ca71-42dfff3dffa3",
    "pycharm": {
     "name": "#%%\n"
    }
   },
   "execution_count": 27,
   "outputs": [
    {
     "output_type": "stream",
     "name": "stdout",
     "text": [
      "Top video games by rating growth\n",
      "+------------------------------+---------+-------------+------------------+\n",
      "|primaryTitle                  |startYear|averageRating|rating_growth     |\n",
      "+------------------------------+---------+-------------+------------------+\n",
      "|Wipeout                       |1995     |7.5          |4.7               |\n",
      "|Peggle                        |2007     |7.5          |3.9               |\n",
      "|Basketball                    |1978     |6.4          |3.6000000000000005|\n",
      "|God of War                    |2018     |9.5          |3.2               |\n",
      "|The Pagemaster                |1994     |7.2          |3.1000000000000005|\n",
      "|Fist of the North Star        |1995     |6.2          |2.9000000000000004|\n",
      "|Blasto                        |1998     |8.1          |2.8999999999999995|\n",
      "|Stronghold                    |2001     |8.1          |2.8999999999999995|\n",
      "|Freedom Force                 |2002     |7.6          |2.8               |\n",
      "|T2: Terminator 2: Judgment Day|1992     |6.0          |2.8               |\n",
      "|Journey                       |2012     |8.5          |2.7               |\n",
      "|Spider-Man 2                  |2005     |7.3          |2.7               |\n",
      "|Monkey Magic                  |1999     |8.2          |2.6999999999999993|\n",
      "|Perfect Dark                  |2000     |8.6          |2.6999999999999993|\n",
      "|Top Gear                      |1992     |7.7          |2.6000000000000005|\n",
      "|Neverwinter Nights            |2002     |7.8          |2.5999999999999996|\n",
      "|Conan                         |2004     |6.9          |2.4000000000000004|\n",
      "|Popeye                        |1982     |6.2          |2.3000000000000003|\n",
      "|Wolverine: Adamantium Rage    |1994     |6.2          |2.3000000000000003|\n",
      "|Digger                        |1983     |7.1          |2.3               |\n",
      "+------------------------------+---------+-------------+------------------+\n",
      "only showing top 20 rows\n",
      "\n",
      "Total number of records in the result: 186\n"
     ]
    }
   ]
  },
  {
   "cell_type": "markdown",
   "source": [
    "# Which actors received the most roles in the highest-rated TV episodes in a year?\n",
    "## Які актори отримали найбільше ролей за рік у найбільш рейтингових ТВ-епізодах?"
   ],
   "metadata": {
    "id": "Ig90EvkjnDEe",
    "pycharm": {
     "name": "#%% md\n"
    }
   }
  },
  {
   "cell_type": "code",
   "source": [
    "def top_actors_in_highest_rated_tv_episodes(tv_episodes: DataFrame, principals: DataFrame, ratings: DataFrame,\n",
    "                                            names: DataFrame) -> DataFrame:\n",
    "    tv_with_ratings = tv_episodes.join(ratings, tv_episodes[\"tconst\"] == ratings[\"tconst\"], \"inner\").select(\n",
    "        tv_episodes[\"tconst\"].alias(\"tv_tconst\"), tv_episodes[\"startYear\"], ratings[\"averageRating\"])\n",
    "\n",
    "    window_spec = Window.partitionBy(\"startYear\").orderBy(F.desc(\"averageRating\"))\n",
    "\n",
    "    tv_with_ratings = tv_with_ratings.withColumn(\"rank\", F.dense_rank().over(window_spec))\n",
    "\n",
    "    top_episodes = tv_with_ratings.filter(F.col(\"rank\") == 1)\n",
    "\n",
    "    top_actors = top_episodes.join(principals, top_episodes[\"tv_tconst\"] == principals[\"tconst\"], \"inner\").select(\n",
    "        principals[\"nconst\"].alias(\"actor_nconst\"), principals[\"category\"], top_episodes[\"averageRating\"],\n",
    "        top_episodes[\"startYear\"])\n",
    "\n",
    "    top_actors = top_actors.filter(F.col(\"category\") == \"actor\")\n",
    "\n",
    "    top_actors_with_names = top_actors.join(names, top_actors[\"actor_nconst\"] == names[\"nconst\"], \"inner\").select(\n",
    "        names[\"primaryName\"], top_actors[\"actor_nconst\"], \"averageRating\", top_actors[\"startYear\"])\n",
    "\n",
    "    actor_role_count = top_actors_with_names.groupBy(\"primaryName\", \"startYear\").agg(\n",
    "        F.count(\"actor_nconst\").alias(\"roleCount\"), F.avg(\"averageRating\").alias(\"avgRating\")).orderBy(\n",
    "        F.desc(\"roleCount\"), F.desc(\"avgRating\"))\n",
    "\n",
    "    return actor_role_count\n"
   ],
   "metadata": {
    "id": "MU47V0TAm_o9",
    "pycharm": {
     "name": "#%%\n"
    }
   },
   "execution_count": 28,
   "outputs": []
  },
  {
   "cell_type": "code",
   "source": [
    "print(\"Top actors in highest rated TV episodes with names and ratings\")\n",
    "\n",
    "top_actors_highest_rated = top_actors_in_highest_rated_tv_episodes(tv_episodes, principals, ratings, names)\n",
    "top_actors_highest_rated.show(truncate=False)\n",
    "\n",
    "total_records = top_actors_highest_rated.count()\n",
    "print(f\"Total number of records in the result: {total_records}\")"
   ],
   "metadata": {
    "colab": {
     "base_uri": "https://localhost:8080/"
    },
    "id": "VAKcd0iGnMRC",
    "outputId": "44f6875a-4d61-4aa6-fad2-86c96a318875",
    "pycharm": {
     "name": "#%%\n"
    }
   },
   "execution_count": 29,
   "outputs": [
    {
     "output_type": "stream",
     "name": "stdout",
     "text": [
      "Top actors in highest rated TV episodes with names and ratings\n",
      "+-------------------+---------+---------+---------+\n",
      "|primaryName        |startYear|roleCount|avgRating|\n",
      "+-------------------+---------+---------+---------+\n",
      "|Maurice Carpede    |2001     |254      |10.0     |\n",
      "|Maurice Carpede    |2000     |210      |10.0     |\n",
      "|Tyrone Keogh       |2012     |160      |10.0     |\n",
      "|Tyrone Keogh       |2011     |148      |10.0     |\n",
      "|Adem Bal           |2024     |119      |10.0     |\n",
      "|Eduardo Yáñez      |2013     |85       |10.0     |\n",
      "|Sebastián Rulli    |2013     |84       |10.0     |\n",
      "|Guillermo Capetillo|2013     |83       |10.0     |\n",
      "|Enrique Rocha      |2013     |79       |10.0     |\n",
      "|Francisco Gattorno |2013     |79       |10.0     |\n",
      "|Tarik Tiryakioglu  |2024     |79       |10.0     |\n",
      "|Ayaz Ahmed         |2014     |75       |10.0     |\n",
      "|Dishank Arora      |2014     |75       |10.0     |\n",
      "|Pulkit Bangia      |2014     |75       |10.0     |\n",
      "|Utkarsh Gupta      |2014     |75       |10.0     |\n",
      "|Zain Imam          |2014     |75       |10.0     |\n",
      "|Rohit Bakshi       |2003     |72       |10.0     |\n",
      "|Rajeev Khandelwal  |2003     |72       |10.0     |\n",
      "|Gökberk Yildirim   |2024     |69       |10.0     |\n",
      "|Eduardo Yáñez      |2012     |65       |10.0     |\n",
      "+-------------------+---------+---------+---------+\n",
      "only showing top 20 rows\n",
      "\n",
      "Total number of records in the result: 2302\n"
     ]
    }
   ]
  },
  {
   "cell_type": "markdown",
   "source": [
    "# Saving to csv"
   ],
   "metadata": {
    "id": "ZScb0uJ0qPnj",
    "pycharm": {
     "name": "#%% md\n"
    }
   }
  },
  {
   "cell_type": "code",
   "source": [
    "highest_rated_ukraine_titles(videogames, tv_episodes).coalesce(10).write.option(\"header\", \"true\").csv(\n",
    "    \"/data/results/highest_rated_ukraine_titles.csv\")\n",
    "\n",
    "most_popular_genres_by_count(videogames).coalesce(1).write.option(\"header\", \"true\").csv(\n",
    "    \"/data/results/most_popular_video_games_genres.csv\")\n",
    "\n",
    "top_recent_videogames(videogames, ratings).coalesce(1).write.option(\"header\", \"true\").csv(\n",
    "    \"/data/results/top_recent_video_games.csv\")\n",
    "\n",
    "most_localized_videogames(videogames, akas).coalesce(1).write.option(\"header\", \"true\").csv(\n",
    "    \"/data/results/most_localized_video_games.csv\")\n",
    "\n",
    "top_video_games_by_rating_growth(videogames, ratings).coalesce(1).write.option(\"header\", \"true\").csv(\n",
    "    \"/data/results/top_video_games_by_rating_growth.csv\")\n",
    "\n",
    "top_actors_in_highest_rated_tv_episodes(tv_episodes, principals, ratings, names).coalesce(1).write.option(\"header\",\n",
    "                                                                                                          \"true\").csv(\n",
    "    \"/data/results/top_actors_highest_rated_tv_episodes.csv\")\n"
   ],
   "metadata": {
    "id": "2HKwJYtCqOWw",
    "pycharm": {
     "name": "#%%\n"
    }
   },
   "execution_count": 32,
   "outputs": []
  }
 ]
}