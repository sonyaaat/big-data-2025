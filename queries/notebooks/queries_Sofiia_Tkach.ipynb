{
 "nbformat": 4,
 "nbformat_minor": 0,
 "metadata": {
  "colab": {
   "provenance": [],
   "toc_visible": true
  },
  "kernelspec": {
   "name": "python3",
   "display_name": "Python 3"
  },
  "language_info": {
   "name": "python"
  }
 },
 "cells": [
  {
   "cell_type": "markdown",
   "source": [
    "# Extract necessary DataFrames"
   ],
   "metadata": {
    "id": "oGkvmlOtizjz",
    "pycharm": {
     "name": "#%% md\n"
    }
   }
  },
  {
   "cell_type": "code",
   "source": [
    "from pyspark.sql import Window\n",
    "import pyspark.sql.functions as F\n",
    "from main import process_imdb_data\n",
    "from pyspark.sql import DataFrame\n",
    "from pyspark.sql.functions import desc"
   ],
   "metadata": {
    "id": "RAdwmFvior2y",
    "pycharm": {
     "name": "#%%\n"
    }
   },
   "execution_count": 8,
   "outputs": []
  },
  {
   "cell_type": "code",
   "source": [
    "dataframes = process_imdb_data()"
   ],
   "metadata": {
    "id": "2bTtzzMiizSp",
    "pycharm": {
     "name": "#%%\n"
    }
   },
   "execution_count": 9,
   "outputs": []
  },
  {
   "cell_type": "code",
   "execution_count": null,
   "outputs": [],
   "source": [
    "videogames = dataframes[\"basics\"].filter(F.col(\"titleType\") == \"videoGame\")\n",
    "tv_episodes = dataframes[\"basics\"].filter(F.col(\"titleType\") == \"tvEpisode\")\n",
    "ratings = dataframes[\"ratings\"]\n",
    "akas = dataframes[\"akas\"]\n",
    "principals = dataframes[\"principals\"]\n",
    "names = dataframes[\"name\"]"
   ],
   "metadata": {
    "collapsed": false,
    "pycharm": {
     "name": "#%%\n"
    }
   }
  },
  {
   "cell_type": "markdown",
   "source": [
    "# Export results"
   ],
   "metadata": {
    "id": "1L75QW76ELFo",
    "pycharm": {
     "name": "#%% md\n"
    }
   }
  },
  {
   "cell_type": "code",
   "source": [
    "def export_result(df: DataFrame, result_path: str, show_rows: int = 20, title: str = None,\n",
    "                   partition_column: str = None, num_partitions: int = None) -> None:\n",
    "     print(f\"Results for: {title}\")\n",
    "     df.show(show_rows, truncate=False)\n",
    "     total_records = df.count()\n",
    "     print(f\"Total number of records in the result: {total_records}\")\n",
    "\n",
    "     for col_name, col_type in df.dtypes:\n",
    "         if col_type.startswith(\"array\"):\n",
    "             df = df.withColumn(col_name, F.concat_ws(\", \", F.col(col_name)))\n",
    "\n",
    "     writer = df.write.option(\"header\", \"true\")\n",
    "\n",
    "     if partition_column and partition_column in df.columns:\n",
    "         print(f\"Exporting results with partitioning by column: {partition_column}\")\n",
    "         writer.partitionBy(partition_column).csv(result_path, mode=\"overwrite\")\n",
    "     elif num_partitions and num_partitions > 0:\n",
    "         print(f\"Exporting results with {num_partitions} partitions\")\n",
    "         df.repartition(num_partitions).write.option(\"header\", \"true\").csv(result_path, mode=\"overwrite\")\n",
    "     else:\n",
    "         target_size_mb = 128\n",
    "         estimated_size_bytes = total_records * len(df.columns) * 100\n",
    "         estimated_size_mb = estimated_size_bytes / (1024 * 1024)\n",
    "         optimal_partitions = max(1, int(estimated_size_mb / target_size_mb))\n",
    "\n",
    "         print(f\"Exporting results with automatically determined {optimal_partitions} partitions\")\n",
    "         df.repartition(optimal_partitions).write.option(\"header\", \"true\").csv(result_path, mode=\"overwrite\")"
   ],
   "metadata": {
    "id": "AG2XCI98EN6F",
    "pycharm": {
     "name": "#%%\n"
    }
   },
   "execution_count": null,
   "outputs": []
  },
  {
   "cell_type": "markdown",
   "source": [
    "# Which videos or episodes have Ukrainian localization or mention 'Ukraine' in the title and have the highest rating (above 7,5)?\n",
    "\n",
    "## Які відео або епізоди мають українську локалізацію або згадку \"Ukraine\" в назві і мають найвищий рейтинг(більше 1,5)?\n",
    "\n"
   ],
   "metadata": {
    "id": "jCbL-sGziu9h",
    "pycharm": {
     "name": "#%% md\n"
    }
   }
  },
  {
   "cell_type": "code",
   "source": [
    "def highest_rated_ukraine_titles(videogames: DataFrame, tv_episodes: DataFrame, ratings: DataFrame) -> DataFrame:\n",
    "    ukraine_titles = videogames.filter(\n",
    "        F.col(\"primaryTitle\").contains(\"Ukraine\") | F.col(\"originalTitle\").contains(\"Ukraine\")\n",
    "    ).union(\n",
    "        tv_episodes.filter(\n",
    "            F.col(\"primaryTitle\").contains(\"Ukraine\") | F.col(\"originalTitle\").contains(\"Ukraine\")\n",
    "        )\n",
    "    )\n",
    "\n",
    "    highest_rated_ukraine = ukraine_titles.join(\n",
    "        ratings, ukraine_titles[\"tconst\"] == ratings[\"tconst\"]\n",
    "    ).filter(\n",
    "        (F.col(\"averageRating\") >= 7.5) & (F.col(\"numVotes\") >= 20)\n",
    "    ).select(\n",
    "        \"originalTitle\", \"averageRating\", \"numVotes\", \"startYear\"\n",
    "    ).orderBy(F.desc(\"averageRating\"))\n",
    "\n",
    "    return highest_rated_ukraine\n"
   ],
   "metadata": {
    "id": "cKEZ23VKixJI",
    "pycharm": {
     "name": "#%%\n"
    }
   },
   "execution_count": 14,
   "outputs": []
  },
  {
   "cell_type": "code",
   "source": [
    "highest_rated_ukraine = highest_rated_ukraine_titles(videogames, tv_episodes, ratings)\n",
    "export_result(highest_rated_ukraine,\"/data/results/highest_rated_ukraine_titles.csv\",title=\"Highest rated titles from Ukraine\")"
   ],
   "metadata": {
    "colab": {
     "base_uri": "https://localhost:8080/"
    },
    "id": "2eM_NbgACEvq",
    "outputId": "2ca837c5-7a19-4a59-cfec-dc04d433d091",
    "pycharm": {
     "name": "#%%\n"
    }
   },
   "execution_count": 15,
   "outputs": [
    {
     "output_type": "stream",
     "name": "stdout",
     "text": [
      "Results for: Highest rated titles from Ukraine\n",
      "+-------------------------------------------------+-------------+--------+---------+\n",
      "|originalTitle                                    |averageRating|numVotes|startYear|\n",
      "+-------------------------------------------------+-------------+--------+---------+\n",
      "|Ukraine                                          |8.4          |63      |2016     |\n",
      "|Trip Through Ukraine In Compact Hatchbacks       |8.3          |496     |2014     |\n",
      "|Moissons sanglantes:1933, la famine en Ukraine   |8.0          |36      |2023     |\n",
      "|Ukraine: Les masques de la révolution            |8.0          |60      |2016     |\n",
      "|Putin's Attack on Ukraine: Documenting War Crimes|7.8          |79      |2022     |\n",
      "|Group C: Netherlands vs Ukraine                  |7.7          |41      |2021     |\n",
      "|Ukraine                                          |7.7          |72      |2011     |\n",
      "|Ukraine: Life Under Russia's Attack              |7.6          |57      |2023     |\n",
      "|The Battle for Ukraine / Syria: Arming the Rebels|7.5          |44      |2014     |\n",
      "|Ukraine: The Prison in a War Zone                |7.5          |188     |2018     |\n",
      "+-------------------------------------------------+-------------+--------+---------+\n",
      "\n",
      "Total number of records in the result: 10\n",
      "Exporting results with automatically determined 1 partitions\n"
     ]
    }
   ]
  },
  {
   "cell_type": "markdown",
   "source": [
    "# Which video game genres are the most popular by the number of released games in the last 5 years, and what is the most representative title for each genre?\n",
    "\n",
    "## Які жанри відеоігор є найпопулярнішими за кількістю випущених ігор за останні 5 років, і яка назва є найбільш репрезентативною для кожного жанру?"
   ],
   "metadata": {
    "id": "1ATNJB-FjJdW",
    "pycharm": {
     "name": "#%% md\n"
    }
   }
  },
  {
   "cell_type": "code",
   "source": [
    "def most_popular_genres_by_count(videogames: DataFrame) -> DataFrame:\n",
    "    current_year = 2025\n",
    "    videogames_last_5_years = videogames.filter(\n",
    "        (F.col(\"startYear\") >= current_year - 5) & (F.col(\"startYear\").isNotNull())\n",
    "    )\n",
    "\n",
    "    videogames_last_5_years = videogames_last_5_years.withColumn(\n",
    "        \"genre\", F.explode(F.col(\"genres\"))\n",
    "    )\n",
    "\n",
    "    genre_counts = videogames_last_5_years.groupBy(\"genre\").count()\n",
    "\n",
    "    most_frequent_title_in_genre = videogames_last_5_years.groupBy(\"genre\") \\\n",
    "        .agg(F.first(\"primaryTitle\").alias(\"mostFrequentTitle\"))\n",
    "\n",
    "    genre_summary = genre_counts.join(\n",
    "        most_frequent_title_in_genre, \"genre\", \"left\"\n",
    "    )\n",
    "\n",
    "    top_genres_by_count = genre_summary.orderBy(desc(\"count\")).limit(20)\n",
    "\n",
    "    return top_genres_by_count\n"
   ],
   "metadata": {
    "id": "u0g1EP8ijPyU",
    "pycharm": {
     "name": "#%%\n"
    }
   },
   "execution_count": 16,
   "outputs": []
  },
  {
   "cell_type": "code",
   "source": [
    "most_popular_video_games_genres=most_popular_genres_by_count(videogames)\n",
    "export_result(most_popular_video_games_genres,\"/data/results/most_popular_video_games_genres.csv\",title=\"Most popular video games genres by count\")"
   ],
   "metadata": {
    "colab": {
     "base_uri": "https://localhost:8080/"
    },
    "id": "fsVm1TOlCb8E",
    "outputId": "49c9e6e4-b5e1-488f-9aa3-c05b89bc30be",
    "pycharm": {
     "name": "#%%\n"
    }
   },
   "execution_count": 17,
   "outputs": [
    {
     "output_type": "stream",
     "name": "stdout",
     "text": [
      "Results for: Most popular video games genres by count\n",
      "+---------+-----+--------------------------------------+\n",
      "|genre    |count|mostFrequentTitle                     |\n",
      "+---------+-----+--------------------------------------+\n",
      "|Adventure|2656 |Croc: Legend of the Gobbos            |\n",
      "|Action   |2645 |Croc: Legend of the Gobbos            |\n",
      "|Fantasy  |1086 |Vampire: The Masquerade - Bloodlines 2|\n",
      "|Horror   |957  |Gamer Girl                            |\n",
      "|Sci-Fi   |559  |The Complex                           |\n",
      "|Comedy   |512  |Lego Star Wars: The Skywalker Saga    |\n",
      "|Mystery  |351  |Twin Mirror                           |\n",
      "|Animation|319  |Love, Money, Rock 'n' Roll.           |\n",
      "|Drama    |283  |Vampire: The Masquerade - Bloodlines 2|\n",
      "|Romance  |268  |Love, Money, Rock 'n' Roll.           |\n",
      "|Sport    |231  |MLB: The Show 20                      |\n",
      "|Family   |228  |Croc: Legend of the Gobbos            |\n",
      "|Adult    |193  |Dezyred - Double Trouble              |\n",
      "|Crime    |175  |The Legend of Blue Jacket & Red Coat  |\n",
      "|Thriller |125  |The Complex                           |\n",
      "|Music    |120  |Hatsune Miku Project Diva: Mega 39's  |\n",
      "|War      |99   |Medal of Honor: Above and Beyond      |\n",
      "|History  |98   |The Dark Pictures: Little Hope        |\n",
      "|Short    |53   |Beautiful Feet Cabin                  |\n",
      "|Game-Show|44   |Butter Royale                         |\n",
      "+---------+-----+--------------------------------------+\n",
      "\n",
      "Total number of records in the result: 20\n",
      "Exporting results with automatically determined 1 partitions\n"
     ]
    }
   ]
  },
  {
   "cell_type": "markdown",
   "source": [
    "# Which video games with the highest ratings (above 7,5) were released after 2015 and have more than 10000 votes?\n",
    "\n",
    "## Які відеоігри з найвищим рейтингом (більше 7,5) вийшли після 2015 року та мають понад 10000 голосів?"
   ],
   "metadata": {
    "id": "C7d_4nPokuCX",
    "pycharm": {
     "name": "#%% md\n"
    }
   }
  },
  {
   "cell_type": "code",
   "source": [
    "def top_recent_videogames(videogames: DataFrame, ratings: DataFrame) -> DataFrame:\n",
    "    recent_videogames = videogames.join(ratings, \"tconst\") \\\n",
    "        .filter(\n",
    "            (videogames[\"startYear\"] >= 2015) &\n",
    "            (ratings[\"averageRating\"] >= 7.5) &\n",
    "            (ratings[\"numVotes\"] >= 10000)\n",
    "        ) \\\n",
    "        .select(\n",
    "            videogames[\"primaryTitle\"],\n",
    "            videogames[\"startYear\"],\n",
    "            ratings[\"averageRating\"],\n",
    "            ratings[\"numVotes\"]\n",
    "        )\n",
    "\n",
    "    top_recent = recent_videogames.orderBy(F.desc(\"averageRating\"), F.desc(\"numVotes\"))\n",
    "\n",
    "    return top_recent\n"
   ],
   "metadata": {
    "id": "YubGWrkvktk8",
    "pycharm": {
     "name": "#%%\n"
    }
   },
   "execution_count": 18,
   "outputs": []
  },
  {
   "cell_type": "code",
   "source": [
    "top_recent_games = top_recent_videogames(videogames, ratings)\n",
    "export_result(top_recent_games,\"/data/results/top_recent_games.csv\",title=\"Top-rated video games released after 2015 with more than 10000 votes\")"
   ],
   "metadata": {
    "colab": {
     "base_uri": "https://localhost:8080/"
    },
    "id": "Ct1uzwYCCqSD",
    "outputId": "e8f699d3-5581-4cb4-ce17-0e1d487843c9",
    "pycharm": {
     "name": "#%%\n"
    }
   },
   "execution_count": 19,
   "outputs": [
    {
     "output_type": "stream",
     "name": "stdout",
     "text": [
      "Results for: Top-rated video games released after 2015 with more than 10000 votes\n",
      "+---------------------------------------+---------+-------------+--------+\n",
      "|primaryTitle                           |startYear|averageRating|numVotes|\n",
      "+---------------------------------------+---------+-------------+--------+\n",
      "|Red Dead Redemption II                 |2018     |9.7          |65546   |\n",
      "|The Last of Us: Part I                 |2022     |9.7          |10470   |\n",
      "|The Witcher 3: Wild Hunt               |2015     |9.6          |36509   |\n",
      "|God of War: Ragnarök                   |2022     |9.6          |21299   |\n",
      "|God of War                             |2018     |9.5          |41438   |\n",
      "|Uncharted 4: A Thief's End             |2016     |9.4          |39360   |\n",
      "|Elden Ring                             |2022     |9.4          |12974   |\n",
      "|The Legend of Zelda: Breath of the Wild|2017     |9.4          |11322   |\n",
      "|Spider-Man                             |2018     |9.2          |32857   |\n",
      "|Ghost of Tsushima                      |2020     |9.2          |19412   |\n",
      "|Detroit: Become Human                  |2018     |9.1          |26792   |\n",
      "|Batman: Arkham Knight                  |2015     |9.0          |26240   |\n",
      "|Resident Evil 2                        |2019     |9.0          |12443   |\n",
      "|Horizon Zero Dawn                      |2017     |8.9          |20227   |\n",
      "|The Last of Us: Part II                |2020     |8.8          |46350   |\n",
      "|Life is Strange                        |2015     |8.8          |15057   |\n",
      "|Until Dawn                             |2015     |8.7          |18467   |\n",
      "|Death Stranding                        |2019     |8.7          |12288   |\n",
      "|Resident Evil 7: Biohazard             |2017     |8.6          |11747   |\n",
      "|Star Wars Jedi: Fallen Order           |2019     |8.5          |19307   |\n",
      "+---------------------------------------+---------+-------------+--------+\n",
      "only showing top 20 rows\n",
      "\n",
      "Total number of records in the result: 28\n",
      "Exporting results with automatically determined 1 partitions\n"
     ]
    }
   ]
  },
  {
   "cell_type": "markdown",
   "source": [
    "# Which video games have the most localizations (adaptations for different countries)?\n",
    "## Які відеоігри мають найбільшу кількість локалізацій (адаптацій для різних країн)?"
   ],
   "metadata": {
    "id": "HSK46mP_lxfk",
    "pycharm": {
     "name": "#%% md\n"
    }
   }
  },
  {
   "cell_type": "code",
   "source": [
    "def most_localized_videogames(videogames: DataFrame, akas: DataFrame) -> DataFrame:\n",
    "    localized_games = videogames.join(\n",
    "        akas, videogames[\"tconst\"] == akas[\"titleId\"], \"inner\"\n",
    "    )\n",
    "\n",
    "    localized_games = localized_games.filter(\n",
    "        (F.col(\"language\") != \"und\") &\n",
    "        (F.col(\"titleType\") == \"videoGame\")\n",
    "    )\n",
    "\n",
    "    localized_games_count = localized_games.groupBy(\"primaryTitle\").agg(\n",
    "        F.countDistinct(\"region\").alias(\"localization_count\")\n",
    "    )\n",
    "\n",
    "    result = localized_games_count.orderBy(desc(\"localization_count\"))\n",
    "\n",
    "    return result\n"
   ],
   "metadata": {
    "id": "NrpFd5orl2py",
    "pycharm": {
     "name": "#%%\n"
    }
   },
   "execution_count": 20,
   "outputs": []
  },
  {
   "cell_type": "code",
   "source": [
    "localized_games = most_localized_videogames(videogames, akas)\n",
    "export_result(localized_games,\"/data/results/localized_games.csv\",title=\"Most localized video games\")"
   ],
   "metadata": {
    "colab": {
     "base_uri": "https://localhost:8080/"
    },
    "id": "M6-409O7C3iQ",
    "outputId": "89f9f24b-7a53-4892-e714-e1752d404c23",
    "pycharm": {
     "name": "#%%\n"
    }
   },
   "execution_count": 21,
   "outputs": [
    {
     "output_type": "stream",
     "name": "stdout",
     "text": [
      "Results for: Most localized video games\n",
      "+--------------------------------------------------------------+------------------+\n",
      "|primaryTitle                                                  |localization_count|\n",
      "+--------------------------------------------------------------+------------------+\n",
      "|Atelier Yumia: The Alchemist of Memories & the Envisioned Land|17                |\n",
      "|Monkey King: Hero Is Back                                     |16                |\n",
      "|SilverFin                                                     |11                |\n",
      "|Paradigm Paradox                                              |11                |\n",
      "|Pokémon Legends Z-A                                           |11                |\n",
      "|Max Payne                                                     |9                 |\n",
      "|James Bond 007: Goldfinger                                    |9                 |\n",
      "|James Bond 007: A View to a Kill                              |8                 |\n",
      "|Sword Art Online: Hollow Fragment                             |8                 |\n",
      "|Super Smash Bros. Ultimate                                    |8                 |\n",
      "|Antz Extreme Racing                                           |8                 |\n",
      "|God of War                                                    |8                 |\n",
      "|Super Mario RPG                                               |8                 |\n",
      "|A View to a Kill: The Computer Game                           |7                 |\n",
      "|SWORD ART ONLINE Fractured Daydream                           |7                 |\n",
      "|Pokémon Scarlet                                               |7                 |\n",
      "|Cars: The Video Game                                          |7                 |\n",
      "|The Legend of Zelda: Ocarina of Time 3D                       |7                 |\n",
      "|I.Q Intelligent Qube                                          |7                 |\n",
      "|Metroid Dread                                                 |7                 |\n",
      "+--------------------------------------------------------------+------------------+\n",
      "only showing top 20 rows\n",
      "\n",
      "Total number of records in the result: 6373\n",
      "Exporting results with automatically determined 1 partitions\n"
     ]
    }
   ]
  },
  {
   "cell_type": "markdown",
   "source": [
    "# Which video games have the highest rating growth in the last year?\n",
    "## Які відеоігри з найбільшим приростом рейтингу в останньому році?"
   ],
   "metadata": {
    "id": "UOZNtuaFmXOF",
    "pycharm": {
     "name": "#%% md\n"
    }
   }
  },
  {
   "cell_type": "code",
   "source": [
    "def top_video_games_by_rating_growth(videogames: DataFrame, ratings: DataFrame) -> DataFrame:\n",
    "    joined_data = videogames.join(ratings, videogames[\"tconst\"] == ratings[\"tconst\"])\n",
    "\n",
    "    window_spec = Window.partitionBy(\"primaryTitle\").orderBy(\"startYear\")\n",
    "\n",
    "    joined_data = joined_data.withColumn(\n",
    "        \"previous_rating\",\n",
    "        F.lag(\"averageRating\").over(window_spec)\n",
    "    )\n",
    "\n",
    "    joined_data = joined_data.withColumn(\n",
    "        \"rating_growth\", F.round(F.col(\"averageRating\") - F.col(\"previous_rating\"), 2)\n",
    "    )\n",
    "\n",
    "    top_growth_games = joined_data.filter(\n",
    "        (F.col(\"rating_growth\") > 0) & (F.col(\"numVotes\") >= 500)\n",
    "    ).select(\n",
    "        \"primaryTitle\", \"startYear\", \"averageRating\", \"numVotes\", \"rating_growth\"\n",
    "    ).orderBy(\n",
    "        F.desc(\"rating_growth\")\n",
    "    )\n",
    "    return top_growth_games\n"
   ],
   "metadata": {
    "id": "E3DA3T0Emaj9",
    "pycharm": {
     "name": "#%%\n"
    }
   },
   "execution_count": 22,
   "outputs": []
  },
  {
   "cell_type": "code",
   "source": [
    "top_rating_growth_games = top_video_games_by_rating_growth(videogames, ratings)\n",
    "export_result(top_rating_growth_games,\"/data/results/top_rating_growth_games.csv\",title=\"Top video games by rating growth\")"
   ],
   "metadata": {
    "colab": {
     "base_uri": "https://localhost:8080/"
    },
    "id": "6xJDlEuBDCMO",
    "outputId": "cd03885d-8041-4038-e8c0-a21490492418",
    "pycharm": {
     "name": "#%%\n"
    }
   },
   "execution_count": 23,
   "outputs": [
    {
     "output_type": "stream",
     "name": "stdout",
     "text": [
      "Results for: Top video games by rating growth\n",
      "+-----------------------------------+---------+-------------+--------+-------------+\n",
      "|primaryTitle                       |startYear|averageRating|numVotes|rating_growth|\n",
      "+-----------------------------------+---------+-------------+--------+-------------+\n",
      "|God of War                         |2018     |9.5          |41438   |3.2          |\n",
      "|Journey                            |2012     |8.5          |4443    |2.7          |\n",
      "|Perfect Dark                       |2000     |8.6          |1705    |2.7          |\n",
      "|Neverwinter Nights                 |2002     |7.8          |1175    |2.6          |\n",
      "|Mortal Kombat 4                    |1997     |6.9          |1646    |2.1          |\n",
      "|Mad Max                            |2015     |7.9          |4416    |2.0          |\n",
      "|Spider-Man                         |2018     |9.2          |32857   |2.0          |\n",
      "|Batman                             |1989     |7.4          |531     |1.8          |\n",
      "|Spider-Man 2                       |2023     |9.1          |9580    |1.8          |\n",
      "|Dead Space                         |2023     |8.8          |3222    |1.7          |\n",
      "|Prince of Persia: The Sands of Time|2003     |8.4          |5684    |1.6          |\n",
      "|Pro Evolution Soccer 6             |2006     |8.2          |704     |1.4          |\n",
      "|Fable                              |2004     |8.4          |3215    |1.2          |\n",
      "|The Amazing Spider-Man             |2012     |7.0          |2256    |1.1          |\n",
      "|Spider-Man                         |2000     |8.1          |2064    |1.0          |\n",
      "|Ninja Gaiden                       |2004     |8.4          |799     |0.8          |\n",
      "|Tetris                             |1989     |8.5          |535     |0.8          |\n",
      "|Tomb Raider                        |2013     |8.7          |22420   |0.7          |\n",
      "|Area 51                            |2005     |7.2          |587     |0.5          |\n",
      "|Full Throttle                      |1995     |8.6          |1780    |0.5          |\n",
      "+-----------------------------------+---------+-------------+--------+-------------+\n",
      "only showing top 20 rows\n",
      "\n",
      "Total number of records in the result: 29\n",
      "Exporting results with automatically determined 1 partitions\n"
     ]
    }
   ]
  },
  {
   "cell_type": "markdown",
   "source": [
    "# Which actors received the most roles in the highest-rated TV episodes in a year?\n",
    "## Які актори отримали найбільше ролей за рік у найбільш рейтингових ТВ-епізодах?"
   ],
   "metadata": {
    "id": "Ig90EvkjnDEe",
    "pycharm": {
     "name": "#%% md\n"
    }
   }
  },
  {
   "cell_type": "code",
   "source": [
    "def top_actors_in_highest_rated_tv_episodes(tv_episodes: DataFrame, principals: DataFrame, ratings: DataFrame, names: DataFrame) -> DataFrame:\n",
    "    tv_with_ratings = tv_episodes.join(ratings, tv_episodes[\"tconst\"] == ratings[\"tconst\"], \"inner\") \\\n",
    "        .select(tv_episodes[\"tconst\"].alias(\"tv_tconst\"), tv_episodes[\"startYear\"], ratings[\"averageRating\"])\n",
    "\n",
    "    window_spec = Window.partitionBy(\"startYear\").orderBy(F.desc(\"averageRating\"))\n",
    "\n",
    "    tv_with_ratings = tv_with_ratings.withColumn(\"rank\", F.dense_rank().over(window_spec))\n",
    "\n",
    "    top_episodes = tv_with_ratings.filter(F.col(\"rank\") == 1)\n",
    "\n",
    "    top_actors = top_episodes.join(principals, top_episodes[\"tv_tconst\"] == principals[\"tconst\"], \"inner\") \\\n",
    "        .select(principals[\"nconst\"].alias(\"actor_nconst\"), principals[\"category\"], top_episodes[\"averageRating\"], top_episodes[\"startYear\"])\n",
    "\n",
    "    top_actors = top_actors.filter(F.col(\"category\") == \"actor\")\n",
    "\n",
    "    top_actors_with_names = top_actors.join(names, top_actors[\"actor_nconst\"] == names[\"nconst\"], \"inner\") \\\n",
    "                                     .select(names[\"primaryName\"], top_actors[\"actor_nconst\"], \"averageRating\", top_actors[\"startYear\"])\n",
    "\n",
    "    actor_role_count = top_actors_with_names.groupBy(\"primaryName\", \"startYear\") \\\n",
    "                                            .agg(F.count(\"actor_nconst\").alias(\"roleCount\"), F.avg(\"averageRating\").alias(\"avgRating\")) \\\n",
    "                                            .orderBy(F.desc(\"roleCount\"), F.desc(\"avgRating\"))\n",
    "\n",
    "    return actor_role_count\n"
   ],
   "metadata": {
    "id": "MU47V0TAm_o9",
    "pycharm": {
     "name": "#%%\n"
    }
   },
   "execution_count": 10,
   "outputs": []
  },
  {
   "cell_type": "code",
   "source": [
    "top_actors_highest_rated = top_actors_in_highest_rated_tv_episodes(tv_episodes, principals, ratings, names)\n",
    "export_result(top_actors_highest_rated,\"/data/results/top_actors_highest_rated_tv_episodes.csv\",title=\"Top actors in highest rated TV episodes with names and ratings\")"
   ],
   "metadata": {
    "colab": {
     "base_uri": "https://localhost:8080/"
    },
    "id": "PzKh4Wk6AJzo",
    "outputId": "70f5ba42-7b5a-4cbc-d70e-c7e8c8f49a72",
    "pycharm": {
     "name": "#%%\n"
    }
   },
   "execution_count": 13,
   "outputs": [
    {
     "output_type": "stream",
     "name": "stdout",
     "text": [
      "Results for: Top actors in highest rated TV episodes with names and ratings\n",
      "+-------------------+---------+---------+---------+\n",
      "|primaryName        |startYear|roleCount|avgRating|\n",
      "+-------------------+---------+---------+---------+\n",
      "|Maurice Carpede    |2001     |254      |10.0     |\n",
      "|Maurice Carpede    |2000     |210      |10.0     |\n",
      "|Tyrone Keogh       |2012     |160      |10.0     |\n",
      "|Tyrone Keogh       |2011     |148      |10.0     |\n",
      "|Adem Bal           |2024     |119      |10.0     |\n",
      "|Eduardo Yáñez      |2013     |85       |10.0     |\n",
      "|Sebastián Rulli    |2013     |84       |10.0     |\n",
      "|Guillermo Capetillo|2013     |83       |10.0     |\n",
      "|Francisco Gattorno |2013     |79       |10.0     |\n",
      "|Enrique Rocha      |2013     |79       |10.0     |\n",
      "|Tarik Tiryakioglu  |2024     |79       |10.0     |\n",
      "|Ayaz Ahmed         |2014     |75       |10.0     |\n",
      "|Dishank Arora      |2014     |75       |10.0     |\n",
      "|Pulkit Bangia      |2014     |75       |10.0     |\n",
      "|Utkarsh Gupta      |2014     |75       |10.0     |\n",
      "|Zain Imam          |2014     |75       |10.0     |\n",
      "|Rohit Bakshi       |2003     |72       |10.0     |\n",
      "|Rajeev Khandelwal  |2003     |72       |10.0     |\n",
      "|Gökberk Yildirim   |2024     |69       |10.0     |\n",
      "|Francisco Gattorno |2012     |65       |10.0     |\n",
      "+-------------------+---------+---------+---------+\n",
      "only showing top 20 rows\n",
      "\n",
      "Total number of records in the result: 2295\n",
      "Exporting results with automatically determined 1 partitions\n"
     ]
    }
   ]
  }
 ]
}