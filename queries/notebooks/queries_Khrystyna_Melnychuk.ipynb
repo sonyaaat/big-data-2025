{
  "nbformat": 4,
  "nbformat_minor": 0,
  "metadata": {
    "colab": {
      "provenance": []
    },
    "kernelspec": {
      "name": "python3",
      "display_name": "Python 3"
    },
    "language_info": {
      "name": "python"
    }
  },
  "cells": [
    {
      "cell_type": "markdown",
      "source": [
        "# Necessary imports"
      ],
      "metadata": {
        "id": "ExxkYzO-VO-U"
      }
    },
    {
      "cell_type": "code",
      "execution_count": null,
      "metadata": {
        "id": "iF-hHnMNVI0Z"
      },
      "outputs": [],
      "source": [
        "from pyspark.sql.window import Window\n",
        "import pyspark.sql.functions as F\n",
        "from main import process_imdb_data\n",
        "from pyspark.sql import DataFrame\n",
        "from pyspark.sql.functions import desc"
      ]
    },
    {
      "cell_type": "code",
      "source": [
        "dataframes = process_imdb_data()"
      ],
      "metadata": {
        "id": "WRZv0iPwVmLt"
      },
      "execution_count": null,
      "outputs": []
    },
    {
      "cell_type": "code",
      "source": [
        "def export_result(df: DataFrame, result_path: str, show_rows: int = 20, title: str = None,\n",
        "                   partition_column: str = None, num_partitions: int = None) -> None:\n",
        "     print(f\"Results for: {title}\")\n",
        "     df.show(show_rows, truncate=False)\n",
        "     total_records = df.count()\n",
        "     print(f\"Total number of records in the result: {total_records}\")\n",
        "\n",
        "     for col_name, col_type in df.dtypes:\n",
        "         if col_type.startswith(\"array\"):\n",
        "             df = df.withColumn(col_name, F.concat_ws(\", \", F.col(col_name)))\n",
        "\n",
        "     writer = df.write.option(\"header\", \"true\")\n",
        "\n",
        "     if partition_column and partition_column in df.columns:\n",
        "         print(f\"Exporting results with partitioning by column: {partition_column}\")\n",
        "         writer.partitionBy(partition_column).csv(result_path, mode=\"overwrite\")\n",
        "     elif num_partitions and num_partitions > 0:\n",
        "         print(f\"Exporting results with {num_partitions} partitions\")\n",
        "         df.repartition(num_partitions).write.option(\"header\", \"true\").csv(result_path, mode=\"overwrite\")\n",
        "     else:\n",
        "         target_size_mb = 128\n",
        "         estimated_size_bytes = total_records * len(df.columns) * 100\n",
        "         estimated_size_mb = estimated_size_bytes / (1024 * 1024)\n",
        "         optimal_partitions = max(1, int(estimated_size_mb / target_size_mb))\n",
        "\n",
        "         print(f\"Exporting results with automatically determined {optimal_partitions} partitions\")\n",
        "         df.repartition(optimal_partitions).write.option(\"header\", \"true\").csv(result_path, mode=\"overwrite\")"
      ],
      "metadata": {
        "id": "EVl_SuqeCPl_"
      },
      "execution_count": null,
      "outputs": []
    },
    {
      "cell_type": "markdown",
      "source": [
        "# Queries"
      ],
      "metadata": {
        "id": "94LUwHjahRe8"
      }
    },
    {
      "cell_type": "markdown",
      "source": [
        "## №1: Which romantic comedies with Ukrainian localization are the most popular (with a rating of 7+ and at least 1000 votes)?"
      ],
      "metadata": {
        "id": "UID64FlWVqgu"
      }
    },
    {
      "cell_type": "markdown",
      "source": [
        "###  №1: Які романтичні комедії з українською локалізацією найпопулярніші (мають рейтинг 7+ і щонайменше 1000 голосів)?"
      ],
      "metadata": {
        "id": "tFJz_O49hdmu"
      }
    },
    {
      "cell_type": "code",
      "source": [
        "def top_ua_romantic_comedies(basics: DataFrame, akas: DataFrame, ratings: DataFrame) -> DataFrame:\n",
        "\n",
        "    romantic_comedies = basics \\\n",
        "        .filter(\n",
        "            F.array_contains(\"genres\", \"Romance\") &\n",
        "            F.array_contains(\"genres\", \"Comedy\")\n",
        "        ) \\\n",
        "        .select(\"tconst\", \"primaryTitle\", \"titleType\", \"genres\")\n",
        "\n",
        "    ua_titles = akas \\\n",
        "        .filter((F.col(\"region\") == \"UA\") & (F.col(\"isOriginalTitle\") == False)) \\\n",
        "        .select(\"titleId\", F.col(\"title\").alias(\"ukrainianTitle\")) \\\n",
        "        .distinct()\n",
        "\n",
        "    rated = ratings \\\n",
        "        .filter(\n",
        "            (F.col(\"averageRating\") >= 7) &\n",
        "            (F.col(\"numVotes\") >= 1000)\n",
        "        )\n",
        "\n",
        "    result = romantic_comedies \\\n",
        "        .join(ua_titles, romantic_comedies.tconst == ua_titles.titleId, \"inner\") \\\n",
        "        .join(rated, \"tconst\") \\\n",
        "        .select(\n",
        "            \"tconst\", \"primaryTitle\", \"ukrainianTitle\", \"titleType\",\n",
        "            \"genres\", \"averageRating\", \"numVotes\"\n",
        "        ) \\\n",
        "        .orderBy(F.col(\"averageRating\").desc(), F.col(\"numVotes\").desc())\n",
        "\n",
        "    # result.show(20, truncate=False)\n",
        "    return result"
      ],
      "metadata": {
        "id": "y2Fit8tREI_N"
      },
      "execution_count": null,
      "outputs": []
    },
    {
      "cell_type": "code",
      "source": [
        "result = top_ua_romantic_comedies(dataframes[\"basics\"], dataframes[\"akas\"], dataframes[\"ratings\"])\n",
        "export_result(result,\"/data/results/top_ua_romantic_comedies.csv\",title=\"Top romantic comedies available in Ukrainian\")"
      ],
      "metadata": {
        "colab": {
          "base_uri": "https://localhost:8080/"
        },
        "id": "M5CLCsNYFaw6",
        "outputId": "d723405e-9a1b-49cc-a5be-70d9822addbf"
      },
      "execution_count": null,
      "outputs": [
        {
          "output_type": "stream",
          "name": "stdout",
          "text": [
            "Results for: Top romantic comedies available in Ukrainian\n",
            "+----------+----------------------------+-----------------------------------------------------------+------------+----------------------------+-------------+--------+\n",
            "|tconst    |primaryTitle                |ukrainianTitle                                             |titleType   |genres                      |averageRating|numVotes|\n",
            "+----------+----------------------------+-----------------------------------------------------------+------------+----------------------------+-------------+--------+\n",
            "|tt0108778 |Friends                     |Друзі                                                      |tvSeries    |[Comedy, Romance]           |8.9          |1139938 |\n",
            "|tt5555260 |This Is Us                  |Це ми                                                      |tvSeries    |[Comedy, Drama, Romance]    |8.7          |167375  |\n",
            "|tt11769304|Hospital Playlist           |Музика лікарні                                             |tvSeries    |[Comedy, Drama, Romance]    |8.7          |9112    |\n",
            "|tt0118799 |Life Is Beautiful           |Життя прекрасне                                            |movie       |[Comedy, Drama, Romance]    |8.6          |775529  |\n",
            "|tt12451520|It's Okay to Not Be Okay    |Нормально бути ненормальним                                |tvSeries    |[Comedy, Drama, Romance]    |8.6          |40532   |\n",
            "|tt12451520|It's Okay to Not Be Okay    |Психопат, але це нормально                                 |tvSeries    |[Comedy, Drama, Romance]    |8.6          |40532   |\n",
            "|tt13400006|Mr. Queen                   |Містер Королева                                            |tvSeries    |[Comedy, Fantasy, Romance]  |8.6          |12954   |\n",
            "|tt1442437 |Modern Family               |Американська сімейка                                       |tvSeries    |[Comedy, Drama, Romance]    |8.5          |513355  |\n",
            "|tt0027977 |Modern Times                |Нові часи                                                  |movie       |[Comedy, Drama, Romance]    |8.5          |271901  |\n",
            "|tt0021749 |City Lights                 |Вогні великого міста                                       |movie       |[Comedy, Drama, Romance]    |8.5          |206246  |\n",
            "|tt9522300 |Kaguya-sama: Love is War    |Каґуя хоче, щоб їй зізналися: Ультра-романтика             |tvSeries    |[Animation, Comedy, Romance]|8.5          |23889   |\n",
            "|tt9522300 |Kaguya-sama: Love is War    |Каґуя хоче, щоб їй зізналися: Війна любові та розуму геніїв|tvSeries    |[Animation, Comedy, Romance]|8.5          |23889   |\n",
            "|tt2155025 |Please Like Me              |Полюби мене, будь ласка                                    |tvSeries    |[Comedy, Drama, Romance]    |8.5          |20170   |\n",
            "|tt0088338 |The Elusive Summer of '68   |Оманливе літо '68                                          |movie       |[Comedy, Drama, Romance]    |8.5          |6415    |\n",
            "|tt0108872 |My So-Called Life           |Моє так зване життя                                        |tvSeries    |[Comedy, Drama, Romance]    |8.4          |22605   |\n",
            "|tt0408381 |Doc Martin                  |Доктор Мартін                                              |tvSeries    |[Comedy, Drama, Romance]    |8.4          |21425   |\n",
            "|tt14050960|Mr. Queen: The Bamboo Forest|Містер Королева: бамбуковий ліс                            |tvMiniSeries|[Comedy, Romance, Short]    |8.4          |1816    |\n",
            "|tt0211915 |Amélie                      |Неймовірна доля Амелі Пулен                                |movie       |[Comedy, Romance]           |8.3          |816488  |\n",
            "|tt0211915 |Amélie                      |Амелі                                                      |movie       |[Comedy, Romance]           |8.3          |816488  |\n",
            "|tt0460649 |How I Met Your Mother       |Як я познайомився з вашою мамою                            |tvSeries    |[Comedy, Drama, Romance]    |8.3          |757056  |\n",
            "+----------+----------------------------+-----------------------------------------------------------+------------+----------------------------+-------------+--------+\n",
            "only showing top 20 rows\n",
            "\n",
            "Total number of records in the result: 450\n",
            "Exporting results with automatically determined 1 partitions\n"
          ]
        }
      ]
    },
    {
      "cell_type": "markdown",
      "source": [
        "## №2: Top directors by number of video games directed"
      ],
      "metadata": {
        "id": "SmhvsnFnoD9S"
      }
    },
    {
      "cell_type": "markdown",
      "source": [
        "### №2: Скільки ігор у доробку кожного режисера?"
      ],
      "metadata": {
        "id": "uld_ByP5h2aP"
      }
    },
    {
      "cell_type": "code",
      "source": [
        "def videogames_by_director(df_basics: DataFrame, df_crew: DataFrame, df_name: DataFrame) -> DataFrame:\n",
        "\n",
        "    video_games_with_crew = df_basics \\\n",
        "        .join(df_crew, \"tconst\", \"inner\") \\\n",
        "        .filter(\n",
        "            (F.col(\"directors\").isNotNull()) &\n",
        "            (F.col(\"titleType\") == \"videoGame\")\n",
        "        )\n",
        "\n",
        "    video_games_with_directors = video_games_with_crew \\\n",
        "        .withColumn(\"director\", F.explode(F.col(\"directors\")))\n",
        "\n",
        "    video_games_with_directors_and_names = video_games_with_directors \\\n",
        "        .join(\n",
        "            df_name,\n",
        "            video_games_with_directors[\"director\"] == df_name[\"nconst\"],\n",
        "            \"inner\"\n",
        "        )\n",
        "\n",
        "    director_video_game_count = video_games_with_directors_and_names \\\n",
        "        .groupBy(\"primaryName\") \\\n",
        "        .agg(\n",
        "            F.count(\"tconst\").alias(\"num_video_games\")\n",
        "        )\n",
        "\n",
        "    result = director_video_game_count \\\n",
        "        .orderBy(F.desc(\"num_video_games\"))\n",
        "\n",
        "    # result.show(20, truncate=False)\n",
        "    return result"
      ],
      "metadata": {
        "id": "Z4b8FREFz7iN"
      },
      "execution_count": null,
      "outputs": []
    },
    {
      "cell_type": "code",
      "source": [
        "result = videogames_by_director(dataframes['basics'], dataframes['crew'], dataframes['name'])\n",
        "export_result(result,\"/data/results/videogames_by_director.csv\",title=\"Count of videogames for each game director\")"
      ],
      "metadata": {
        "colab": {
          "base_uri": "https://localhost:8080/"
        },
        "id": "k4c8E-S4MiFz",
        "outputId": "65fbc826-ce5d-4726-e4f9-34877c9263f8"
      },
      "execution_count": null,
      "outputs": [
        {
          "output_type": "stream",
          "name": "stdout",
          "text": [
            "Results for: Count of videogames for each game director\n",
            "+--------------------------+---------------+\n",
            "|primaryName               |num_video_games|\n",
            "+--------------------------+---------------+\n",
            "|Randall Ryan              |71             |\n",
            "|Paul Andrews              |68             |\n",
            "|Lani Minella              |55             |\n",
            "|Keith Arem                |55             |\n",
            "|Mo Davoudian              |52             |\n",
            "|Safak Yalcinkaya          |47             |\n",
            "|Douglas Carrigan          |46             |\n",
            "|Satoshi Tajiri            |40             |\n",
            "|Classtro                  |39             |\n",
            "|James Deighan             |35             |\n",
            "|Jon Burton                |35             |\n",
            "|Hideo Kojima              |34             |\n",
            "|Blade Zavier              |33             |\n",
            "|Matt Bozon                |27             |\n",
            "|Tetsuya Nomura            |25             |\n",
            "|Todd Howard               |24             |\n",
            "|Suda 51                   |23             |\n",
            "|Michael Andrew Lambert Jr.|23             |\n",
            "|Hidetaka Miyazaki         |23             |\n",
            "|Hiroshi Matsuyama         |23             |\n",
            "+--------------------------+---------------+\n",
            "only showing top 20 rows\n",
            "\n",
            "Total number of records in the result: 11343\n",
            "Exporting results with automatically determined 1 partitions\n"
          ]
        }
      ]
    },
    {
      "cell_type": "markdown",
      "source": [
        "## №3: Which video games by Randall Ryan have a rating above 6.5 with over 200 votes?"
      ],
      "metadata": {
        "id": "JCnaL1REiday"
      }
    },
    {
      "cell_type": "markdown",
      "source": [
        "### №3: Які відеоігри режисера Randall Ryan мають рейтинг вище 6.5 та більше 200 голосів?"
      ],
      "metadata": {
        "id": "ICyFLVajpIaw"
      }
    },
    {
      "cell_type": "markdown",
      "source": [
        "Average for rating and votes count | Середні показники для рейтингу та кількості голосів для відеігор."
      ],
      "metadata": {
        "id": "JdzPnupdprQ2"
      }
    },
    {
      "cell_type": "code",
      "source": [
        "videogames = dataframes[\"basics\"].filter(F.col(\"titleType\") == \"videoGame\") \\\n",
        "    .join(dataframes[\"ratings\"], \"tconst\", \"inner\")\n",
        "\n",
        "videogames.select(\n",
        "    F.mean(\"averageRating\").alias(\"avg_rating\"),\n",
        "    F.mean(\"numVotes\").alias(\"avg_votes\")\n",
        ").show()"
      ],
      "metadata": {
        "colab": {
          "base_uri": "https://localhost:8080/"
        },
        "id": "aJ2zgmAV6pmW",
        "outputId": "76598b7a-af1a-4922-f968-bfd9b6da6d34"
      },
      "execution_count": null,
      "outputs": [
        {
          "output_type": "stream",
          "name": "stdout",
          "text": [
            "+-----------------+------------------+\n",
            "|       avg_rating|         avg_votes|\n",
            "+-----------------+------------------+\n",
            "|6.725510884051531|357.69535761883606|\n",
            "+-----------------+------------------+\n",
            "\n"
          ]
        }
      ]
    },
    {
      "cell_type": "markdown",
      "source": [
        "Queiry | Запит:"
      ],
      "metadata": {
        "id": "vEJLG_1wpxTL"
      }
    },
    {
      "cell_type": "code",
      "source": [
        "def top_titles_by_randall_ryan(df_name: DataFrame, df_crew: DataFrame, df_basics: DataFrame, df_ratings: DataFrame) -> DataFrame:\n",
        "\n",
        "    randall_nconst_df = df_name.filter(F.col(\"primaryName\") == \"Randall Ryan\").select(\"nconst\")\n",
        "    randall_nconst = [row[\"nconst\"] for row in randall_nconst_df.collect()]\n",
        "\n",
        "    if not randall_nconst:\n",
        "        print(\"Randall Ryan not found in df_name.\")\n",
        "        return\n",
        "    randall_id = randall_nconst[0]\n",
        "\n",
        "    relevant_titles = df_crew.filter(\n",
        "        (F.array_contains(F.col(\"directors\"), randall_id)) |\n",
        "        (F.array_contains(F.col(\"writers\"), randall_id))\n",
        "    ).select(\"tconst\")\n",
        "\n",
        "    titles_with_info = relevant_titles \\\n",
        "        .join(df_basics, \"tconst\", \"inner\") \\\n",
        "        .join(df_ratings, \"tconst\", \"inner\") \\\n",
        "        .filter((F.col(\"averageRating\") >= 6.5) & (F.col(\"numVotes\") >= 200))\n",
        "\n",
        "    result = titles_with_info.select(\n",
        "        \"primaryTitle\", \"titleType\", \"startYear\", \"averageRating\", \"numVotes\"\n",
        "    ).orderBy(F.desc(\"averageRating\"), F.desc(\"numVotes\"))\n",
        "\n",
        "    # result.show(20, truncate=False)\n",
        "    return result"
      ],
      "metadata": {
        "id": "LxbRj6mD3i4u"
      },
      "execution_count": null,
      "outputs": []
    },
    {
      "cell_type": "code",
      "source": [
        "result = top_titles_by_randall_ryan(dataframes[\"name\"], dataframes[\"crew\"], dataframes[\"basics\"], dataframes[\"ratings\"])\n",
        "export_result(result, \"/data/results/top_titles_by_randall_ryan.csv\", title=\"Top games by Randall Ryan\")"
      ],
      "metadata": {
        "colab": {
          "base_uri": "https://localhost:8080/"
        },
        "id": "JlKTwSe2RJUz",
        "outputId": "0b69349a-9ddd-4de3-f345-bce8f4dc1285"
      },
      "execution_count": null,
      "outputs": [
        {
          "output_type": "stream",
          "name": "stdout",
          "text": [
            "Results for: Top games by Randall Ryan\n",
            "+----------------------------------------+---------+---------+-------------+--------+\n",
            "|primaryTitle                            |titleType|startYear|averageRating|numVotes|\n",
            "+----------------------------------------+---------+---------+-------------+--------+\n",
            "|The Lord of the Rings Online            |videoGame|2007     |7.8          |564     |\n",
            "|Cobra Kai: The Karate Kid Saga Continues|videoGame|2020     |7.6          |329     |\n",
            "|Chivalry II                             |videoGame|2021     |6.8          |214     |\n",
            "+----------------------------------------+---------+---------+-------------+--------+\n",
            "\n",
            "Total number of records in the result: 3\n",
            "Exporting results with automatically determined 1 partitions\n"
          ]
        }
      ]
    },
    {
      "cell_type": "markdown",
      "source": [
        "## №4: Top 3 TV series by rating and number of votes for each region of localization"
      ],
      "metadata": {
        "id": "68OgfxN3p_Yc"
      }
    },
    {
      "cell_type": "markdown",
      "source": [
        "### №4: Топ-3 серіали (tvSeries) за рейтингом та кількістю голосів для кожного регіону"
      ],
      "metadata": {
        "id": "gpl11Gm1ivF2"
      }
    },
    {
      "cell_type": "code",
      "source": [
        "def top_rated_series_by_region(df_basics: DataFrame, df_ratings: DataFrame, df_akas: DataFrame) -> DataFrame:\n",
        "\n",
        "    series_with_ratings = df_basics \\\n",
        "        .join(df_ratings, \"tconst\", \"inner\") \\\n",
        "        .filter(\n",
        "            (F.col(\"averageRating\") >= 7) &\n",
        "            (F.col(\"numVotes\") >= 1000)\n",
        "        )\n",
        "\n",
        "    series_with_ratings = series_with_ratings.filter(F.col(\"titleType\") == \"tvSeries\")\n",
        "\n",
        "    series_with_region = series_with_ratings \\\n",
        "        .join(df_akas, df_basics[\"tconst\"] == df_akas[\"titleId\"], \"inner\") \\\n",
        "        .filter(df_akas[\"region\"].isNotNull())\n",
        "\n",
        "    window_spec = Window \\\n",
        "        .partitionBy(\"region\") \\\n",
        "        .orderBy(F.desc(\"averageRating\"), F.desc(\"numVotes\"), F.asc(\"primaryTitle\"))\n",
        "\n",
        "    ranked_series = series_with_region.withColumn(\"row_num\", F.row_number().over(window_spec))\n",
        "\n",
        "    top_3_series = ranked_series.filter(F.col(\"row_num\") <= 3)\n",
        "\n",
        "    result = top_3_series.select(\"region\", \"primaryTitle\", \"averageRating\", \"numVotes\")\n",
        "\n",
        "    # result.show(20, truncate=False)\n",
        "    return result"
      ],
      "metadata": {
        "id": "zITi-fu1puSC"
      },
      "execution_count": null,
      "outputs": []
    },
    {
      "cell_type": "code",
      "source": [
        "result = top_rated_series_by_region(dataframes[\"basics\"], dataframes[\"ratings\"], dataframes[\"akas\"])\n",
        "export_result(result,\"/data/results/top_rated_series_by_region.csv\",title=\"Top-3 TV series for each region\")"
      ],
      "metadata": {
        "colab": {
          "base_uri": "https://localhost:8080/"
        },
        "id": "TDMy76yrVhd5",
        "outputId": "20ad0b68-7bb0-4d8f-da9e-42368e63a412"
      },
      "execution_count": null,
      "outputs": [
        {
          "output_type": "stream",
          "name": "stdout",
          "text": [
            "Results for: Top-3 TV series for each region\n",
            "+------+------------------------------+-------------+--------+\n",
            "|region|primaryTitle                  |averageRating|numVotes|\n",
            "+------+------------------------------+-------------+--------+\n",
            "|AE    |Breaking Bad                  |9.5          |2313754 |\n",
            "|AE    |De'ah Da'iah                  |9.5          |1161    |\n",
            "|AE    |Tree of Life                  |9.4          |17885   |\n",
            "|AF    |The Other Me                  |8.9          |7612    |\n",
            "|AF    |The Blacklist                 |7.9          |289109  |\n",
            "|AL    |Game of Thrones               |9.2          |2421554 |\n",
            "|AL    |The Island                    |9.1          |3207    |\n",
            "|AL    |Friends                       |8.9          |1139938 |\n",
            "|AM    |The Fairly OddParents         |7.2          |49255   |\n",
            "|AR    |Breaking Bad                  |9.5          |2313754 |\n",
            "|AR    |Avatar: The Last Airbender    |9.3          |403535  |\n",
            "|AR    |When Life Gives You Tangerines|9.3          |11629   |\n",
            "|AT    |Freaks and Geeks              |8.8          |159431  |\n",
            "|AT    |Peaky Blinders                |8.7          |706438  |\n",
            "|AT    |The Bureau                    |8.7          |16806   |\n",
            "|AU    |The Why Files                 |9.6          |1016    |\n",
            "|AU    |Breaking Bad                  |9.5          |2313754 |\n",
            "|AU    |Call Me Kevin                 |9.5          |1939    |\n",
            "|AZ    |Breaking Bad                  |9.5          |2313754 |\n",
            "|AZ    |Bluey                         |9.3          |37637   |\n",
            "+------+------------------------------+-------------+--------+\n",
            "only showing top 20 rows\n",
            "\n",
            "Total number of records in the result: 349\n",
            "Exporting results with automatically determined 1 partitions\n"
          ]
        }
      ]
    },
    {
      "cell_type": "markdown",
      "source": [
        "## №5: The longest movie of each genre"
      ],
      "metadata": {
        "id": "tg1rMGc5jRWY"
      }
    },
    {
      "cell_type": "markdown",
      "source": [
        "### №5: Найдовші фільми в кожному жанрі"
      ],
      "metadata": {
        "id": "WGbrSnV7rIqh"
      }
    },
    {
      "cell_type": "code",
      "source": [
        "def longest_movie_per_genre(df_basics: DataFrame) -> DataFrame:\n",
        "\n",
        "    filtered_movies = df_basics \\\n",
        "        .filter(\n",
        "            (F.col(\"titleType\") == \"movie\") &\n",
        "            (F.col(\"runtimeMinutes\").isNotNull()) &\n",
        "            (F.col(\"genres\").isNotNull())\n",
        "        )\n",
        "\n",
        "    exploded = filtered_movies.withColumn(\"genre\", F.explode(\"genres\"))\n",
        "\n",
        "    window_spec = Window \\\n",
        "        .partitionBy(\"genre\") \\\n",
        "        .orderBy(F.desc(\"runtimeMinutes\"))\n",
        "\n",
        "    ranked = exploded.withColumn(\"rank\", F.row_number().over(window_spec))\n",
        "\n",
        "    top_movies = ranked.filter(F.col(\"rank\") == 1)\n",
        "\n",
        "    result = top_movies.select(\"genre\", \"primaryTitle\", \"runtimeMinutes\")\n",
        "\n",
        "    # result.show(20, truncate=False)\n",
        "    return result"
      ],
      "metadata": {
        "id": "V_G36jdGrov_"
      },
      "execution_count": null,
      "outputs": []
    },
    {
      "cell_type": "code",
      "source": [
        "result = longest_movie_per_genre(dataframes[\"basics\"])\n",
        "export_result(result,\"/data/results/longest_movie_per_genre.csv\",title=\"The longest movie of each genre\")"
      ],
      "metadata": {
        "colab": {
          "base_uri": "https://localhost:8080/"
        },
        "id": "JCPA9H1vaAle",
        "outputId": "9d1df044-1b79-4835-82ba-c7d824fe483e"
      },
      "execution_count": null,
      "outputs": [
        {
          "output_type": "stream",
          "name": "stdout",
          "text": [
            "Results for: The longest movie of each genre\n",
            "+-----------+--------------------------------+--------------+\n",
            "|genre      |primaryTitle                    |runtimeMinutes|\n",
            "+-----------+--------------------------------+--------------+\n",
            "|Action     |h36:                            |2160          |\n",
            "|Adult      |16 Hours of MILFS 3             |960           |\n",
            "|Adventure  |Fireside Reading of Dracula     |565           |\n",
            "|Animation  |100                             |59460         |\n",
            "|Biography  |O.J.: Made in America           |467           |\n",
            "|Comedy     |London EC1                      |5460          |\n",
            "|Crime      |Testing Movie1                  |1234          |\n",
            "|Documentary|Logistics                       |51420         |\n",
            "|Drama      |Qw                              |10062         |\n",
            "|Family     |World Peace & Prayer Day        |2400          |\n",
            "|Fantasy    |Funusion                        |1440          |\n",
            "|Film-Noir  |Not as a Stranger               |135           |\n",
            "|Game-Show  |The Netflix Slam                |150           |\n",
            "|History    |Saynatakuna: Masks              |2905          |\n",
            "|Horror     |24 Hour Psycho                  |1440          |\n",
            "|Music      |The Cure for Insomnia           |5220          |\n",
            "|Musical    |Sigur rós: Route One            |1440          |\n",
            "|Mystery    |London EC1                      |5460          |\n",
            "|News       |Glorious Things Are Sung of Zion|364           |\n",
            "|Reality-TV |Mit liv og min familie i julen  |250           |\n",
            "+-----------+--------------------------------+--------------+\n",
            "only showing top 20 rows\n",
            "\n",
            "Total number of records in the result: 28\n",
            "Exporting results with automatically determined 1 partitions\n"
          ]
        }
      ]
    },
    {
      "cell_type": "markdown",
      "source": [
        "## №6: TV series with the highest number of episodes and their average rating"
      ],
      "metadata": {
        "id": "41YgMI2SjbBX"
      }
    },
    {
      "cell_type": "markdown",
      "source": [
        "### №6: Які телевізійні серіали мають найбільшу кількість епізодів та який їхній середній рейтинг?"
      ],
      "metadata": {
        "id": "YknQ_PSVr0sI"
      }
    },
    {
      "cell_type": "code",
      "source": [
        "def longest_series_with_ratings(df_basics: DataFrame, df_episode: DataFrame, df_ratings: DataFrame) -> DataFrame:\n",
        "\n",
        "    df_basics_renamed = df_basics.withColumnRenamed(\"tconst\", \"series_tconst\")\n",
        "\n",
        "    df_series_episodes = df_basics_renamed.join(\n",
        "        df_episode,\n",
        "        df_episode[\"parentTconst\"] == df_basics_renamed[\"series_tconst\"],\n",
        "        \"left_outer\"\n",
        "    )\n",
        "\n",
        "    series_episode_count = df_series_episodes.groupBy(\"primaryTitle\", \"series_tconst\") \\\n",
        "        .agg(F.count(\"episodeNumber\").alias(\"num_episodes\"))\n",
        "\n",
        "    df_with_ratings = series_episode_count.join(\n",
        "        df_ratings,\n",
        "        series_episode_count[\"series_tconst\"] == df_ratings[\"tconst\"],\n",
        "        \"inner\"\n",
        "    )\n",
        "\n",
        "    result = df_with_ratings.select(\n",
        "        \"primaryTitle\", \"num_episodes\", \"averageRating\"\n",
        "    ).orderBy(F.desc(\"num_episodes\"))\n",
        "\n",
        "    # result.show(20, truncate=False)\n",
        "    return result"
      ],
      "metadata": {
        "id": "vXd16299uezy"
      },
      "execution_count": null,
      "outputs": []
    },
    {
      "cell_type": "code",
      "source": [
        "result = longest_series_with_ratings(dataframes[\"basics\"], dataframes[\"episode\"], dataframes[\"ratings\"])\n",
        "export_result(result,\"/data/results/longest_series_with_ratings.csv\",title=\"Longest series with ratings\")"
      ],
      "metadata": {
        "colab": {
          "base_uri": "https://localhost:8080/"
        },
        "id": "aJ28oBXabIcb",
        "outputId": "df9d4f7e-de8d-4910-e182-2e182f7e8f89"
      },
      "execution_count": null,
      "outputs": [
        {
          "output_type": "stream",
          "name": "stdout",
          "text": [
            "Results for: Longest series with ratings\n",
            "+-----------------------------+------------+-------------+\n",
            "|primaryTitle                 |num_episodes|averageRating|\n",
            "+-----------------------------+------------+-------------+\n",
            "|Days of Our Lives            |15209       |5.3          |\n",
            "|The Young and the Restless   |13254       |5.3          |\n",
            "|Coronation Street            |10976       |5.6          |\n",
            "|As the World Turns           |10916       |6.3          |\n",
            "|General Hospital             |10853       |6.6          |\n",
            "|Emmerdale Farm               |10176       |4.9          |\n",
            "|Barátok közt                 |10118       |2.3          |\n",
            "|Eat Bulaga                   |9948        |7.7          |\n",
            "|ASAP                         |9673        |6.5          |\n",
            "|The Bold and the Beautiful   |9515        |3.5          |\n",
            "|Neighbours                   |9258        |5.6          |\n",
            "|Jeopardy!                    |9256        |8.3          |\n",
            "|Guiding Light                |9164        |6.6          |\n",
            "|Search for Tomorrow          |9116        |7.0          |\n",
            "|All My Children              |9023        |6.8          |\n",
            "|Unser Sandmännchen           |8993        |7.3          |\n",
            "|The Price is Right           |8912        |7.5          |\n",
            "|Home and Away                |8471        |5.1          |\n",
            "|Countdown                    |8278        |6.2          |\n",
            "|Gute Zeiten, schlechte Zeiten|8253        |2.9          |\n",
            "+-----------------------------+------------+-------------+\n",
            "only showing top 20 rows\n",
            "\n",
            "Total number of records in the result: 1559673\n",
            "Exporting results with automatically determined 3 partitions\n"
          ]
        }
      ]
    }
  ]
}