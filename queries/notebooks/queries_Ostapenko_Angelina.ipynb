{
  "nbformat": 4,
  "nbformat_minor": 0,
  "metadata": {
    "colab": {
      "provenance": []
    },
    "kernelspec": {
      "name": "python3",
      "display_name": "Python 3"
    },
    "language_info": {
      "name": "python"
    }
  },
  "cells": [
    {
      "cell_type": "code",
      "source": [
        "from pyspark.sql import Window\n",
        "import pyspark.sql.functions as F\n",
        "from main import process_imdb_data\n",
        "from pyspark.sql import DataFrame\n",
        "from pyspark.sql.functions import desc\n",
        "import os\n",
        ""
      ],
      "metadata": {
        "id": "LlJFTxhY-us3"
      },
      "execution_count": null,
      "outputs": []
    },
    {
      "cell_type": "code",
      "source": [
        "dataframes = process_imdb_data()\n",
        "basics = dataframes[\"basics\"]\n",
        "akas = dataframes[\"akas\"]\n",
        "crew = dataframes[\"crew\"]\n",
        "ratings = dataframes[\"ratings\"]\n",
        "principals = dataframes[\"principals\"]\n",
        "name_df = dataframes[\"name\"]\n",
        "episode = dataframes[\"episode\"]\n",
        "\n",
        "\n",
        "RESULTS_DIR = \"results\"\n",
        "if not os.path.exists(RESULTS_DIR):\n",
        "    os.makedirs(RESULTS_DIR)\n"
      ],
      "metadata": {
        "id": "FyE1eyk2_IjM"
      },
      "execution_count": 36,
      "outputs": []
    },
    {
      "cell_type": "markdown",
      "source": [
        "1. Які англомовні фільми мають рейтинг вище 7.0?"
      ],
      "metadata": {
        "id": "6umO6dAMZIvi"
      }
    },
    {
      "cell_type": "code",
      "source": [
        "\n",
        "def english_high_rated_movies() -> DataFrame:\n",
        "    print(\"\\nАнгломовні фільми з рейтингом > 7.0:\")\n",
        "    result = basics.filter((F.col(\"titleType\") == \"movie\") &\n",
        "                           (F.col(\"startYear\").isNotNull())) \\\n",
        "                   .join(ratings, \"tconst\", \"inner\") \\\n",
        "                   .filter(F.col(\"averageRating\") > 7.0) \\\n",
        "                   .select(\"tconst\", \"primaryTitle\", \"startYear\", \"averageRating\", \"numVotes\")\n",
        "    result.show(truncate=False)\n",
        "    print(f\"Загальна кількість записів у відповіді: {result.count()}\")\n",
        "    result.coalesce(1).write.option(\"header\", \"true\").csv(f\"{RESULTS_DIR}/english_high_rated_movies.csv\")\n",
        "    return result\n",
        "\n",
        ""
      ],
      "metadata": {
        "id": "hpETEvuOQWBe"
      },
      "execution_count": 37,
      "outputs": []
    },
    {
      "cell_type": "markdown",
      "source": [
        "2. Які режисери працювали протягом кількох десятиліть з високими рейтингами, і в якому десятилітті кожен з них показав найкращий середній рейтинг?"
      ],
      "metadata": {
        "id": "cT6_wl3MZOx7"
      }
    },
    {
      "cell_type": "code",
      "source": [
        "def directors_best_decade() -> DataFrame:\n",
        "    print(\"\\nРежисери з найкращим десятиліттям за рейтингом:\")\n",
        "    movies_df = basics.filter((F.col(\"titleType\") == \"movie\") & (F.col(\"startYear\").isNotNull()))\n",
        "    movies_with_ratings = movies_df.join(ratings, \"tconst\")\n",
        "    movies_with_crews = movies_with_ratings.join(crew, \"tconst\").filter(F.col(\"directors\").isNotNull())\n",
        "    movies_with_crews = movies_with_crews.withColumn(\"decade\", (F.col(\"startYear\").cast(\"int\") / 10).cast(\"int\") * 10)\n",
        "    movies_exploded = movies_with_crews.withColumn(\"director\", F.explode(\"directors\"))\n",
        "\n",
        "    director_decade_stats = movies_exploded.groupBy(\"director\", \"decade\").agg(\n",
        "        F.avg(\"averageRating\").alias(\"avg_rating\"),\n",
        "        F.count(\"tconst\").alias(\"movie_count\")\n",
        "    )\n",
        "\n",
        "    director_decade_count = director_decade_stats.groupBy(\"director\") \\\n",
        "        .agg(F.countDistinct(\"decade\").alias(\"decade_count\"))\n",
        "\n",
        "    multi_decade_directors = director_decade_count.filter(F.col(\"decade_count\") > 1)\n",
        "\n",
        "    director_decade_stats = director_decade_stats.join(multi_decade_directors, \"director\")\n",
        "\n",
        "    windowSpec = Window.partitionBy(\"director\").orderBy(F.desc(\"avg_rating\"))\n",
        "\n",
        "    director_best_decade = director_decade_stats.withColumn(\"rank\", F.row_number().over(windowSpec)) \\\n",
        "        .filter(F.col(\"rank\") == 1) \\\n",
        "        .drop(\"rank\")\n",
        "\n",
        "    director_best_decade = director_best_decade.join(name_df, director_best_decade.director == name_df.nconst, \"left\") \\\n",
        "        .select(\"director\", \"primaryName\", \"decade\", \"avg_rating\", \"movie_count\")\n",
        "\n",
        "    director_best_decade.show(truncate=False)\n",
        "    print(f\"Загальна кількість записів у відповіді: {director_best_decade.count()}\")\n",
        "    director_best_decade.coalesce(1).write.option(\"header\", \"true\").csv(f\"{RESULTS_DIR}/directors_best_decade.csv\")\n",
        "    return director_best_decade"
      ],
      "metadata": {
        "id": "sEdOL9auIWlC"
      },
      "execution_count": 38,
      "outputs": []
    },
    {
      "cell_type": "markdown",
      "source": [
        " 3. Які режисери, що працювали над хоча б п’ятьма фільмами в жанрі \"Thriller\", отримують середній рейтинг не нижче 7.0?"
      ],
      "metadata": {
        "id": "V_WzD41BbZWZ"
      }
    },
    {
      "cell_type": "code",
      "source": [
        "def top_thriller_directors() -> DataFrame:\n",
        "    print(\"\\nРежисери в жанрі 'Thriller', які мають мінімум 5 фільмів та середній рейтинг ≥ 7.0:\")\n",
        "    thriller_movies = basics.filter((F.array_contains(F.col(\"genres\"), \"Thriller\")) &\n",
        "                                    (F.col(\"startYear\").isNotNull()))\n",
        "    with_ratings = thriller_movies.join(ratings, \"tconst\")\n",
        "    with_directors = with_ratings.join(crew, \"tconst\").filter(F.col(\"directors\").isNotNull())\n",
        "    exploded = with_directors.withColumn(\"director\", F.explode(\"directors\"))\n",
        "\n",
        "    result = exploded.groupBy(\"director\").agg(\n",
        "        F.count(\"tconst\").alias(\"film_count\"),\n",
        "        F.avg(\"averageRating\").alias(\"avg_rating\")\n",
        "    ).filter((F.col(\"film_count\") >= 5) & (F.col(\"avg_rating\") >= 7.0)).orderBy(F.desc(\"avg_rating\"))\n",
        "\n",
        "    final = result.join(name_df, result.director == name_df.nconst, \"left\") \\\n",
        "                  .select(\"director\", \"film_count\", \"avg_rating\", \"primaryName\")\n",
        "    final.show(truncate=False)\n",
        "    print(f\"Загальна кількість записів у відповіді: {final.count()}\")\n",
        "    final.coalesce(1).write.option(\"header\", \"true\").csv(f\"{RESULTS_DIR}/top_thriller_directors.csv\")\n",
        "    return final\n",
        "\n"
      ],
      "metadata": {
        "id": "59Jfy9-JKHIw"
      },
      "execution_count": 39,
      "outputs": []
    },
    {
      "cell_type": "markdown",
      "source": [
        "4. Які документальні фільми мають рейтинг вище 7.5?"
      ],
      "metadata": {
        "id": "CBmipKDTbeJA"
      }
    },
    {
      "cell_type": "code",
      "source": [
        "def high_rated_documentaries() -> DataFrame:\n",
        "    print(\"\\nДокументальні фільми з рейтингом > 7.5:\")\n",
        "    documentaries = basics.filter((F.col(\"titleType\") == \"movie\") &\n",
        "                                  (F.col(\"genres\").isNotNull()) &\n",
        "                                  (F.array_contains(F.col(\"genres\"), \"Documentary\")))\n",
        "    docs_with_ratings = documentaries.join(ratings, \"tconst\").filter(F.col(\"averageRating\") > 7.5)\n",
        "    result = docs_with_ratings.select(\"tconst\", \"primaryTitle\", \"averageRating\", \"numVotes\")\n",
        "    result.orderBy(F.desc(\"averageRating\")).show(truncate=False)\n",
        "    print(f\"Загальна кількість записів у відповіді: {result.count()}\")\n",
        "    result.coalesce(1).write.option(\"header\", \"true\").csv(f\"{RESULTS_DIR}/high_rated_documentaries.csv\")\n",
        "    return result\n"
      ],
      "metadata": {
        "id": "GjCcLaThThLu"
      },
      "execution_count": 40,
      "outputs": []
    },
    {
      "cell_type": "markdown",
      "source": [
        "5. Хто з осіб працює як актори, так і режисери?"
      ],
      "metadata": {
        "id": "7Zg7-02AbhIp"
      }
    },
    {
      "cell_type": "code",
      "source": [
        "def dual_role_persons() -> DataFrame:\n",
        "    print(\"\\nОсоби, які працюють як актори, так і режисери:\")\n",
        "    actors = principals.filter(F.col(\"category\").isin(\"actor\", \"actress\")).select(\"nconst\").distinct()\n",
        "    directors = crew.filter(F.col(\"directors\").isNotNull()) \\\n",
        "                    .withColumn(\"director\", F.explode(\"directors\")) \\\n",
        "                    .select(F.col(\"director\").alias(\"nconst\")).distinct()\n",
        "\n",
        "    dual_role = actors.join(directors, \"nconst\", \"inner\")\n",
        "\n",
        "    result = dual_role.join(name_df, \"nconst\", \"left\") \\\n",
        "                      .filter(F.col(\"primaryName\").isNotNull()) \\\n",
        "                      .filter(F.col(\"primaryName\").rlike(\"^[A-Za-z .'-]+$\")) \\\n",
        "                      .select(\"nconst\", \"primaryName\")\n",
        "\n",
        "    result.orderBy(\"primaryName\").show(truncate=False)\n",
        "    print(f\"Загальна кількість записів у відповіді: {result.count()}\")\n",
        "    result.coalesce(1).write.option(\"header\", \"true\").csv(f\"{RESULTS_DIR}/dual_role_persons.csv\")\n",
        "    return result\n",
        "\n",
        "\n"
      ],
      "metadata": {
        "id": "h3UX_GzlVhqe"
      },
      "execution_count": 41,
      "outputs": []
    },
    {
      "cell_type": "markdown",
      "source": [
        "6. Які режисери, що працюють у не менше ніж 3 жанрах, мають стабільно високий середній рейтинг (вище 7.5)?"
      ],
      "metadata": {
        "id": "7NzfwNGDblm5"
      }
    },
    {
      "cell_type": "code",
      "source": [
        "def versatile_directors() -> DataFrame:\n",
        "    print(\"\\nРежисери, що працюють у ≥3 жанрах та мають середній рейтинг >7.5:\")\n",
        "    games = basics.filter((F.col(\"titleType\") == \"videoGame\") & (F.col(\"genres\").isNotNull()))\n",
        "    games_with_info = games.join(ratings, \"tconst\") \\\n",
        "                           .join(crew, \"tconst\") \\\n",
        "                           .filter(F.col(\"directors\").isNotNull())\n",
        "\n",
        "    df_exp = games_with_info.withColumn(\"director\", F.explode(\"directors\")) \\\n",
        "                             .withColumn(\"genre\", F.explode(\"genres\"))\n",
        "\n",
        "    director_stats = df_exp.groupBy(\"director\").agg(\n",
        "        F.countDistinct(\"genre\").alias(\"genre_count\"),\n",
        "        F.avg(\"averageRating\").alias(\"avg_rating\")\n",
        "    )\n",
        "\n",
        "    result = director_stats.filter((F.col(\"genre_count\") >= 3) & (F.col(\"avg_rating\") > 7.5))\n",
        "\n",
        "    final_result = result.join(name_df, result.director == name_df.nconst, \"left\") \\\n",
        "                          .select(\"primaryName\", \"director\", \"genre_count\", \"avg_rating\") \\\n",
        "                          .orderBy(F.desc(\"avg_rating\"))\n",
        "\n",
        "    result.show(truncate=False)\n",
        "    print(f\"Загальна кількість записів у відповіді: {result.count()}\")\n",
        "    result.coalesce(1).write.option(\"header\", \"true\").csv(f\"{RESULTS_DIR}/versatile_directors.csv\")\n",
        "    return result"
      ],
      "metadata": {
        "id": "FGqCeOQBbnkh"
      },
      "execution_count": 49,
      "outputs": []
    },
    {
      "cell_type": "code",
      "source": [
        "versatile_directors()"
      ],
      "metadata": {
        "colab": {
          "base_uri": "https://localhost:8080/"
        },
        "id": "-48-6kyszVsN",
        "outputId": "24ec33eb-ef36-4531-b890-8062ec58a355"
      },
      "execution_count": 50,
      "outputs": [
        {
          "output_type": "stream",
          "name": "stdout",
          "text": [
            "\n",
            "Режисери, що працюють у ≥3 жанрах та мають середній рейтинг >7.5:\n",
            "+----------+-----------+------------------+\n",
            "|director  |genre_count|avg_rating        |\n",
            "+----------+-----------+------------------+\n",
            "|nm12555710|3          |8.2               |\n",
            "|nm10742503|3          |7.866666666666668 |\n",
            "|nm3526377 |3          |7.724999999999999 |\n",
            "|nm0013911 |3          |9.1               |\n",
            "|nm0693599 |3          |8.3               |\n",
            "|nm0473614 |8          |7.892307692307693 |\n",
            "|nm1107898 |3          |8.3               |\n",
            "|nm1210786 |3          |7.7               |\n",
            "|nm11683849|3          |7.900000000000001 |\n",
            "|nm12516156|3          |8.2               |\n",
            "|nm9465459 |3          |7.599999999999999 |\n",
            "|nm9107624 |3          |7.599999999999999 |\n",
            "|nm3711553 |3          |8.1               |\n",
            "|nm0962779 |4          |7.5285714285714285|\n",
            "|nm1659910 |3          |7.900000000000001 |\n",
            "|nm2138837 |6          |7.6000000000000005|\n",
            "|nm2712877 |3          |8.2               |\n",
            "|nm3182289 |3          |8.3               |\n",
            "|nm0993866 |4          |8.45              |\n",
            "|nm5306899 |3          |7.900000000000001 |\n",
            "+----------+-----------+------------------+\n",
            "only showing top 20 rows\n",
            "\n",
            "Загальна кількість записів у відповіді: 1419\n"
          ]
        },
        {
          "output_type": "execute_result",
          "data": {
            "text/plain": [
              "DataFrame[director: string, genre_count: bigint, avg_rating: double]"
            ]
          },
          "metadata": {},
          "execution_count": 50
        }
      ]
    },
    {
      "cell_type": "code",
      "source": [
        "english_high_rated_movies()\n",
        "directors_best_decade()\n",
        "top_thriller_directors()\n",
        "high_rated_documentaries()\n",
        "dual_role_persons()\n"
      ],
      "metadata": {
        "id": "PMfW3JB641J0",
        "colab": {
          "base_uri": "https://localhost:8080/"
        },
        "outputId": "b26273a4-c9c9-43b5-f80b-2973bed31444"
      },
      "execution_count": 46,
      "outputs": [
        {
          "output_type": "stream",
          "name": "stdout",
          "text": [
            "\n",
            "Англомовні фільми з рейтингом > 7.0:\n",
            "+---------+----------------------------------------------+---------+-------------+--------+\n",
            "|tconst   |primaryTitle                                  |startYear|averageRating|numVotes|\n",
            "+---------+----------------------------------------------+---------+-------------+--------+\n",
            "|tt0001498|The Battle of Trafalgar                       |1911     |7.7          |19      |\n",
            "|tt0002479|Seal Hunting in Newfoundland                  |1912     |7.2          |6       |\n",
            "|tt0002572|Wenn die Maske fällt                          |1912     |7.4          |12      |\n",
            "|tt0002637|Arizona                                       |1913     |7.9          |22      |\n",
            "|tt0003150|Miraklet: Tavlor ur det katolska samfundslivet|1913     |7.1          |19      |\n",
            "|tt0003386|Sodoms Ende                                   |1913     |7.7          |19      |\n",
            "|tt0003748|Captain Alvarez                               |1914     |7.9          |21      |\n",
            "|tt0003883|The Child of Paris                            |1913     |7.2          |485     |\n",
            "|tt0004167|Jane Eyre                                     |1914     |8.1          |25      |\n",
            "|tt0004180|The Judge's Wife                              |1914     |7.2          |14      |\n",
            "|tt0004295|The Man from Mexico                           |1914     |8.2          |44      |\n",
            "|tt0004363|Mrs. Black Is Back                            |1914     |7.1          |22      |\n",
            "|tt0004496|A Prince of India                             |1914     |7.2          |19      |\n",
            "|tt0004633|The Spy                                       |1914     |7.9          |20      |\n",
            "|tt0004757|The Valley of the Moon                        |1914     |7.1          |25      |\n",
            "|tt0004909|Armstrong's Wife                              |1915     |7.2          |15      |\n",
            "|tt0004962|Between Men                                   |1915     |7.9          |15      |\n",
            "|tt0005103|The Clue                                      |1915     |7.8          |17      |\n",
            "|tt0005180|The Dawn of a Tomorrow                        |1915     |7.3          |29      |\n",
            "|tt0005190|Destruction                                   |1915     |7.1          |29      |\n",
            "+---------+----------------------------------------------+---------+-------------+--------+\n",
            "only showing top 20 rows\n",
            "\n",
            "Загальна кількість записів у відповіді: 85475\n",
            "\n",
            "Режисери з найкращим десятиліттям за рейтингом:\n",
            "+---------+--------------------+------+-----------------+-----------+\n",
            "|director |primaryName         |decade|avg_rating       |movie_count|\n",
            "+---------+--------------------+------+-----------------+-----------+\n",
            "|nm0000032|Charlton Heston     |1970  |5.8              |1          |\n",
            "|nm0000056|Paul Newman         |1970  |7.15             |2          |\n",
            "|nm0000059|Laurence Olivier    |1940  |7.25             |2          |\n",
            "|nm0000095|Woody Allen         |1970  |7.328571428571428|7          |\n",
            "|nm0000118|John Carpenter      |1980  |7.125            |8          |\n",
            "|nm0000122|Charles Chaplin     |1930  |8.0              |3          |\n",
            "|nm0000123|George Clooney      |2000  |6.8              |3          |\n",
            "|nm0000128|Russell Crowe       |2010  |7.0              |1          |\n",
            "|nm0000141|David Duchovny      |2000  |6.8              |1          |\n",
            "|nm0000165|Ron Howard          |2020  |7.183333333333334|6          |\n",
            "|nm0000166|Helen Hunt          |2000  |5.9              |1          |\n",
            "|nm0000199|Al Pacino           |1990  |7.3              |1          |\n",
            "|nm0000228|Kevin Spacey        |2000  |6.7              |1          |\n",
            "|nm0000269|Jean-Jacques Annaud |1980  |7.566666666666666|3          |\n",
            "|nm0000277|Richard Attenborough|1980  |7.2              |3          |\n",
            "|nm0000318|Tim Burton          |1980  |7.333333333333333|3          |\n",
            "|nm0000339|Roger Corman        |1960  |5.75             |26         |\n",
            "|nm0000341|Michael Crichton    |1970  |6.900000000000001|3          |\n",
            "|nm0000362|Danny DeVito        |1990  |6.8              |2          |\n",
            "|nm0000365|Julie Delpy         |2020  |6.5              |1          |\n",
            "+---------+--------------------+------+-----------------+-----------+\n",
            "only showing top 20 rows\n",
            "\n",
            "Загальна кількість записів у відповіді: 40004\n",
            "\n",
            "Режисери в жанрі 'Thriller', які мають мінімум 5 фільмів та середній рейтинг ≥ 7.0:\n",
            "+---------+----------+------------------+----------------------+\n",
            "|director |film_count|avg_rating        |primaryName           |\n",
            "+---------+----------+------------------+----------------------+\n",
            "|nm0006476|12        |7.491666666666667 |Paul McGuigan         |\n",
            "|nm0010653|15        |7.113333333333332 |Kasia Adamik          |\n",
            "|nm0161078|23        |8.082608695652173 |Christopher Chulack   |\n",
            "|nm0275629|11        |7.863636363636363 |Glenn Ficarra         |\n",
            "|nm0294457|11        |8.0               |Thor Freudenthal      |\n",
            "|nm0574625|10        |7.090000000000001 |James McTeigue        |\n",
            "|nm0622622|5         |8.36              |Sandra Naumann        |\n",
            "|nm0623937|7         |7.757142857142857 |Dana Nechushtan       |\n",
            "|nm0632598|5         |7.160000000000001 |Laura Nisbet-Peters   |\n",
            "|nm0712994|13        |7.092307692307693 |Sandip Ray            |\n",
            "|nm0840075|6         |7.55              |Sudz Sutherland       |\n",
            "|nm0845207|14        |7.707142857142857 |Jorge Sánchez-Cabezudo|\n",
            "|nm0864936|30        |7.879999999999999 |J. Miller Tobin       |\n",
            "|nm0940668|9         |7.533333333333333 |Kate Woods            |\n",
            "|nm1064646|14        |7.192857142857142 |Jonas Alexander Arnby |\n",
            "|nm2111339|5         |7.4799999999999995|Borja Soler           |\n",
            "|nm2161371|30        |7.903333333333334 |Mayank Sharma         |\n",
            "|nm2566876|8         |7.7875000000000005|Javier Calvo          |\n",
            "|nm4529807|5         |7.219999999999999 |Daniel Willis         |\n",
            "|nm4853354|10        |7.980000000000001 |Aditya Sarpotdar      |\n",
            "+---------+----------+------------------+----------------------+\n",
            "only showing top 20 rows\n",
            "\n",
            "Загальна кількість записів у відповіді: 1312\n",
            "\n",
            "Документальні фільми з рейтингом > 7.5:\n",
            "+----------+-----------------------------------------------+-------------+--------+\n",
            "|tconst    |primaryTitle                                   |averageRating|numVotes|\n",
            "+----------+-----------------------------------------------+-------------+--------+\n",
            "|tt27169311|The Children of the Coral                      |10.0         |6       |\n",
            "|tt1816068 |Why Robert?                                    |10.0         |9       |\n",
            "|tt26238834|The Real Superheroes                           |10.0         |14      |\n",
            "|tt18339166|Carraco                                        |10.0         |7       |\n",
            "|tt36474071|Beyond Limits                                  |10.0         |15      |\n",
            "|tt14546442|Pandemania                                     |10.0         |8       |\n",
            "|tt31510477|Retratos de República Dominicana               |10.0         |9       |\n",
            "|tt28669725|Of All the Gin Joints                          |10.0         |7       |\n",
            "|tt4255940 |Bio jednom jedan... Dusko Radovic              |10.0         |8       |\n",
            "|tt33368946|Opioids: The Hidden Crisis                     |10.0         |9       |\n",
            "|tt33087645|I Need You: 53 Years of the Band America       |10.0         |6       |\n",
            "|tt28803744|Paradise (bunnies and flowers)                 |10.0         |7       |\n",
            "|tt32258895|Hawala                                         |10.0         |8       |\n",
            "|tt26680820|COMPLEXion                                     |10.0         |8       |\n",
            "|tt3224406 |The Legend of Ixquik                           |10.0         |8       |\n",
            "|tt13639932|On Our Own Island                              |9.9          |9       |\n",
            "|tt4211854 |You Have His Eyes                              |9.9          |9       |\n",
            "|tt13129430|Pulling Power from the Sky: The Story of Makani|9.9          |14      |\n",
            "|tt35440401|Patchwork Family                               |9.9          |7       |\n",
            "|tt1587194 |Kot ptic                                       |9.9          |17      |\n",
            "+----------+-----------------------------------------------+-------------+--------+\n",
            "only showing top 20 rows\n",
            "\n",
            "Загальна кількість записів у відповіді: 20084\n",
            "\n",
            "Особи, які працюють як актори, так і режисери:\n",
            "+----------+-------------------------+\n",
            "|nconst    |primaryName              |\n",
            "+----------+-------------------------+\n",
            "|nm12024764|'Barbie' Aviance Catholic|\n",
            "|nm3961282 |'Big' James Wroblewski   |\n",
            "|nm0379491 |'Chico' Hernandez        |\n",
            "|nm0810107 |'Evil' Ted Smith         |\n",
            "|nm2683157 |'Hollywood' Steve Huey   |\n",
            "|nm1149056 |'Horny' Harry            |\n",
            "|nm1056176 |'Jungle Jim' Shaughnessy |\n",
            "|nm8015563 |'Knife' Sotelo           |\n",
            "|nm2158255 |'Krazy Joe' Fiore        |\n",
            "|nm1381277 |'Philthy' Phil Phillips  |\n",
            "|nm1943726 |'Rayzor' Raymond Davis   |\n",
            "|nm11312724|'Spark' Patty Keach      |\n",
            "|nm8336112 |'The Jinni' Ra'Shawn Vass|\n",
            "|nm0946148 |'Weird Al' Yankovic      |\n",
            "|nm0441623 |A L Katz                 |\n",
            "|nm2731946 |A Leslie Kies            |\n",
            "|nm0553436 |A Martinez               |\n",
            "|nm15725777|A Motion                 |\n",
            "|nm0340236 |A Normale Jef            |\n",
            "|nm14868934|A R Jaya Krishnaa        |\n",
            "+----------+-------------------------+\n",
            "only showing top 20 rows\n",
            "\n",
            "Загальна кількість записів у відповіді: 249446\n"
          ]
        },
        {
          "output_type": "execute_result",
          "data": {
            "text/plain": [
              "DataFrame[nconst: string, primaryName: string]"
            ]
          },
          "metadata": {},
          "execution_count": 46
        }
      ]
    }
  ]
}